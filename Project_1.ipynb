{
 "cells": [
  {
   "cell_type": "markdown",
   "metadata": {},
   "source": [
    "# Dynamic Pricing at Lyft Bay Wheels"
   ]
  },
  {
   "cell_type": "markdown",
   "metadata": {},
   "source": [
    "*Disclaimer:* Instead of executing the project by parts (Part I, II, and III), I opted by doing a single Jupyter Notebook. The initial queries were done through the CL and are included in the section [Data Exploration](#data_exploration), whereas project questions and visualizations were done using BigQuery, and are included in the section [Project Questions](#project_questions)."
   ]
  },
  {
   "cell_type": "markdown",
   "metadata": {},
   "source": [
    "## Table of Contents"
   ]
  },
  {
   "cell_type": "markdown",
   "metadata": {},
   "source": [
    "- [1-Problem Statement](#problem_statement)\n",
    "- [2-Dataset](#dataset)\n",
    "- [3-Tools](#tools)\n",
    "- [4-Data Exploration](#data_exploration)\n",
    "- [5-Project Questions](#project_questions)\n",
    "- [6-Summary of Findings](#summary_findings)\n",
    "- [7-Recommendations](#recommendations)"
   ]
  },
  {
   "cell_type": "markdown",
   "metadata": {},
   "source": [
    "<a id='problem_statement'></a>\n",
    "## 1-Problem Statement\n",
    "\n",
    "### Situation\n",
    "\n",
    "- Lyft Bay Wheels (https://www.lyft.com/bikes/bay-wheels) is the company running Bay Area Bikeshare.\n",
    "- Their objective is to increase ridership through the offering of new deals through their mobile app. \n",
    "- Currently, Lyft Bay Wheels has several deal options to customers, which include: \n",
    "  * _Single Ride_: rides start at \\\\$2 for the first 30 minutes, then \\\\$3 per additional 15 minutes; \n",
    "  * _Monthly Membership_ - unlimited number of 45-minute rides, then \\\\$3 per additional 15 minutes; it costs \\\\$15 per month;\n",
    "  * _Annual Membership_ - unlimited number of 45-minute rides, then \\\\$3 per additional 15 minutes; it costs \\\\$149 per year;\n",
    "  * _Access Pass_ - unlimited number of 30-minute rides on 24-hours, then \\\\$3 per additional 15 minutes; it costs \\\\$10 per day;\n",
    "  * _Bike Share for All_ - subsidized offers to income-eligible customers;\n",
    "  * _Corporate Membership_ - fully or partially subsidized memberships sponsored by private organizations;\n",
    "  * _Riding With Others_ - special Access Pass offers for groups;\n",
    "  * _Ebike Pricing_ - special pricing conditions applicable for ebikes.\n",
    "\n",
    "### Complication\n",
    "\n",
    "- The number of rides has been declining in the past few months compared with the same period of last year.\n",
    "- It is imperative to attract new customers to the service in order to achieve a higher utilization and a better profitability.\n",
    "\n",
    "### Objetive\n",
    "- In this project, we will recommend changes to our offering portfolio in order to increase the attractiveness of our service to new customers.\n",
    "- We are going to focus on a customer segment that has proved to be particularly attractive to the company: the commuter riders.\n",
    "- For the scope of this project, we will focus on the deal portfolio as it were the only lever at our disposal; we will not consider other business levers at disposal of Lyft Bay Wheels management team, such as increasing the number of stations, expanding number of docks on existing stations, offering new mobility options, creating a return service, partnering with other parking spaces, etc.\n",
    "\n",
    "### Key questions\n",
    "- To accomplish with the project's objectives, these are the most critical questions we need to answer: \n",
    "\n",
    "    * How fast have we been able to grow the overall number of trips in the system?\n",
    "    * Which hours of the day concentrate the most number of trips ('commuter hours')?\n",
    "    * What is the mix of subscribers vs. regular customers during the commuter hours? How does it compare to the mix during other periods of the day?\n",
    "    * What is the average trip duration during commuter hours? How does it compare with the trip duration in other periods of the day? \n",
    "    * What are the 5 most popular trips that we would call \"commuter trips\" in the morning?\n",
    "    * What are the 5 most popular trips that we would call \"commuter trips\" in the evening?\n",
    "    * Which stations are the most demanded ones as origin points during commuter hours?\n",
    "    * Where does our most demanded origin stations are located?\n",
    "    * How is the availability of bikes in the most demanded origin stations during commuter hours? Do we have spare capacity to offer to new users?\n",
    "    * Which stations are the most demanded ones as destination points during commuter hours?\n",
    "    * Where does our most demanded destination stations are located?\n",
    "    * How is the availability of dockers in the most demanded destination stations during commuter hours? Do we have spare parking capacity to offer to new users?\n",
    "    * What are our recommendations for new offers (justified based on our findings)?"
   ]
  },
  {
   "cell_type": "markdown",
   "metadata": {},
   "source": [
    "<a id='dataset'></a>\n",
    "## 2-Dataset\n",
    "\n",
    "- For this project, we will use a Big Query Public Dataset, offered by Google Cloud Platform (GCP).\n",
    "- The dataset covers an aproximate period of 3 years of bike trips in the Bay Area.\n",
    "- It has two datasets: a static one and a dynamic one. We will use the static one, called **san_francisco**.\n",
    "- From the **san_francisco** dataset, we will use the following tables:\n",
    "    * bikeshare_stations\n",
    "    * bikeshare_status\n",
    "    * bikeshare_trips"
   ]
  },
  {
   "cell_type": "markdown",
   "metadata": {},
   "source": [
    "<a id='tools'></a>\n",
    "## 3-Tools\n",
    "\n",
    "- This project will be done entirely on Google Cloud Platform (GCP).\n",
    "- This project will make use of the following tools:\n",
    "    * Our virtual machine on GCP\n",
    "    * Jupyter Notebook\n",
    "    * Google's BigQuery\n",
    "    * Linux Command Line\n",
    "    * Python 3\n",
    "    * Numpy\n",
    "    * Pandas\n",
    "    * Geopandas\n",
    "    * Matplotlib"
   ]
  },
  {
   "cell_type": "markdown",
   "metadata": {},
   "source": [
    "<a id='data_exploration'></a>\n",
    "## 4-Data Exploration\n",
    "\n",
    "- In this section we will perform some initial data exploration using Google's BigQuery from the CLI.\n",
    "- We will follow a structure where we first present the question, then the answer we got, and finally the query we used with the results in a table format.\n",
    "- For this initial data exploration, we will not make use of visualizations other than tables."
   ]
  },
  {
   "cell_type": "markdown",
   "metadata": {},
   "source": [
    "### What's the size of this dataset? (i.e., how many trips)\n",
    "\n",
    "This dataset contains 983,648 trips as can be viewed on the result table of the query below."
   ]
  },
  {
   "cell_type": "code",
   "execution_count": 962,
   "metadata": {},
   "outputs": [
    {
     "name": "stdout",
     "output_type": "stream",
     "text": [
      "Waiting on bqjob_r27c3f7b531fbdcda_00000174cab2a12a_1 ... (1s) Current status: DONE   \n",
      "+-----------+\n",
      "| num_trips |\n",
      "+-----------+\n",
      "|    983648 |\n",
      "+-----------+\n"
     ]
    }
   ],
   "source": [
    "! bq query --use_legacy_sql=FALSE 'SELECT COUNT(DISTINCT trip_id) AS num_trips FROM `bigquery-public-data.san_francisco.bikeshare_trips`'"
   ]
  },
  {
   "cell_type": "markdown",
   "metadata": {},
   "source": [
    "### Is there duplicated trip_ids on the dataset?"
   ]
  },
  {
   "cell_type": "markdown",
   "metadata": {},
   "source": [
    "No, as the COUNT of trip_id field returned the same result as the COUNT of DISTINCT trip_id."
   ]
  },
  {
   "cell_type": "code",
   "execution_count": 963,
   "metadata": {},
   "outputs": [
    {
     "name": "stdout",
     "output_type": "stream",
     "text": [
      "Waiting on bqjob_r6e3245dbfc357240_00000174cab2ec11_1 ... (0s) Current status: DONE   \n",
      "+-----------+\n",
      "| num_trips |\n",
      "+-----------+\n",
      "|    983648 |\n",
      "+-----------+\n"
     ]
    }
   ],
   "source": [
    "! bq query --use_legacy_sql=FALSE 'SELECT COUNT(trip_id) AS num_trips FROM `bigquery-public-data.san_francisco.bikeshare_trips`'"
   ]
  },
  {
   "cell_type": "markdown",
   "metadata": {},
   "source": [
    "### What is the earliest start date and time and latest end date and time for a trip?\n",
    "\n",
    "The earliest start date and time covered by this dataset is 2013-08-29 at 09:08 am, while the latest end date and time is 2016-08-31 at 11:48 pm."
   ]
  },
  {
   "cell_type": "code",
   "execution_count": 964,
   "metadata": {},
   "outputs": [
    {
     "name": "stdout",
     "output_type": "stream",
     "text": [
      "Waiting on bqjob_r333415a6889d6aa5_00000174cab32988_1 ... (0s) Current status: DONE   \n",
      "+---------------------+---------------------+\n",
      "| earliest_start_date |   latest_end_date   |\n",
      "+---------------------+---------------------+\n",
      "| 2013-08-29 09:08:00 | 2016-08-31 23:48:00 |\n",
      "+---------------------+---------------------+\n"
     ]
    }
   ],
   "source": [
    "! bq query --use_legacy_sql=FALSE 'SELECT MIN(start_date) AS earliest_start_date, MAX(end_date) AS latest_end_date FROM `bigquery-public-data.san_francisco.bikeshare_trips`'"
   ]
  },
  {
   "cell_type": "markdown",
   "metadata": {},
   "source": [
    "### How many bikes are there?\n",
    "\n",
    "There are a total of 700 distinct bikes in our dataset."
   ]
  },
  {
   "cell_type": "code",
   "execution_count": 965,
   "metadata": {},
   "outputs": [
    {
     "name": "stdout",
     "output_type": "stream",
     "text": [
      "Waiting on bqjob_r2265b1a8bc6a9c40_00000174cab34296_1 ... (0s) Current status: DONE   \n",
      "+-----------+\n",
      "| num_bikes |\n",
      "+-----------+\n",
      "|       700 |\n",
      "+-----------+\n"
     ]
    }
   ],
   "source": [
    "! bq query --use_legacy_sql=FALSE 'SELECT COUNT(DISTINCT bike_number) AS num_bikes FROM `bigquery-public-data.san_francisco.bikeshare_trips`'"
   ]
  },
  {
   "cell_type": "markdown",
   "metadata": {},
   "source": [
    "### How many trips are in the morning vs. in the afternoon?"
   ]
  },
  {
   "cell_type": "markdown",
   "metadata": {},
   "source": [
    "There are 412,339 trips in the morning (from midnight to noon), and 571,309 in the afternoon (from noon to midnight)."
   ]
  },
  {
   "cell_type": "code",
   "execution_count": 966,
   "metadata": {},
   "outputs": [
    {
     "name": "stdout",
     "output_type": "stream",
     "text": [
      "Waiting on bqjob_r6cb34f1dc441e45_00000174cab3600a_1 ... (0s) Current status: DONE   \n",
      "+---------------+\n",
      "| morning_trips |\n",
      "+---------------+\n",
      "|        412339 |\n",
      "+---------------+\n"
     ]
    }
   ],
   "source": [
    "! bq query --use_legacy_sql=FALSE 'SELECT COUNT(trip_id) AS morning_trips FROM `bigquery-public-data.san_francisco.bikeshare_trips` WHERE EXTRACT(HOUR FROM start_date) < 12'"
   ]
  },
  {
   "cell_type": "code",
   "execution_count": 967,
   "metadata": {},
   "outputs": [
    {
     "name": "stdout",
     "output_type": "stream",
     "text": [
      "Waiting on bqjob_r5bd9044e938391aa_00000174cab378fb_1 ... (0s) Current status: DONE   \n",
      "+-----------------+\n",
      "| afternoon_trips |\n",
      "+-----------------+\n",
      "|          571309 |\n",
      "+-----------------+\n"
     ]
    }
   ],
   "source": [
    "! bq query --use_legacy_sql=FALSE 'SELECT COUNT(trip_id) AS afternoon_trips FROM `bigquery-public-data.san_francisco.bikeshare_trips` WHERE EXTRACT(HOUR FROM start_date) >= 12'"
   ]
  },
  {
   "cell_type": "markdown",
   "metadata": {},
   "source": [
    "### Which hours of the day concentrate most of the trips?"
   ]
  },
  {
   "cell_type": "markdown",
   "metadata": {},
   "source": [
    "The hours of the day that concentrates most of the trips are from 7am to 10am in the morning, and from 4pm to 7pm in the afternoon."
   ]
  },
  {
   "cell_type": "code",
   "execution_count": 968,
   "metadata": {},
   "outputs": [
    {
     "name": "stdout",
     "output_type": "stream",
     "text": [
      "Waiting on bqjob_r3da56fcd607ec66f_00000174cab39321_1 ... (0s) Current status: DONE   \n",
      "+------------+-----------+-----------+\n",
      "| start_hour | num_trips | pct_total |\n",
      "+------------+-----------+-----------+\n",
      "|          0 |      2929 |       0.3 |\n",
      "|          1 |      1611 |      0.16 |\n",
      "|          2 |       877 |      0.09 |\n",
      "|          3 |       605 |      0.06 |\n",
      "|          4 |      1398 |      0.14 |\n",
      "|          5 |      5098 |      0.52 |\n",
      "|          6 |     20519 |      2.09 |\n",
      "|          7 |     67531 |      6.87 |\n",
      "|          8 |    132464 |     13.47 |\n",
      "|          9 |     96118 |      9.77 |\n",
      "|         10 |     42782 |      4.35 |\n",
      "|         11 |     40407 |      4.11 |\n",
      "|         12 |     46950 |      4.77 |\n",
      "|         13 |     43714 |      4.44 |\n",
      "|         14 |     37852 |      3.85 |\n",
      "|         15 |     47626 |      4.84 |\n",
      "|         16 |     88755 |      9.02 |\n",
      "|         17 |    126302 |     12.84 |\n",
      "|         18 |     84569 |       8.6 |\n",
      "|         19 |     41071 |      4.18 |\n",
      "|         20 |     22747 |      2.31 |\n",
      "|         21 |     15258 |      1.55 |\n",
      "|         22 |     10270 |      1.04 |\n",
      "|         23 |      6195 |      0.63 |\n",
      "+------------+-----------+-----------+\n"
     ]
    }
   ],
   "source": [
    "! bq query --use_legacy_sql=FALSE 'SELECT EXTRACT(HOUR FROM start_date) AS start_hour, COUNT(trip_id) AS num_trips, ROUND(COUNT(trip_id)/(SELECT COUNT(trip_id) FROM `bigquery-public-data.san_francisco.bikeshare_trips`)*100, 2) AS pct_total FROM `bigquery-public-data.san_francisco.bikeshare_trips` GROUP BY start_hour ORDER BY start_hour'"
   ]
  },
  {
   "cell_type": "markdown",
   "metadata": {},
   "source": [
    "### How is the distribution of the duration of trips in minutes intervals?"
   ]
  },
  {
   "cell_type": "markdown",
   "metadata": {},
   "source": [
    "Most trips are actually short, during less than 15 minutes. The fastest trips in the database took just one minute, while the longest one took 287,840 minutes!"
   ]
  },
  {
   "cell_type": "code",
   "execution_count": 970,
   "metadata": {},
   "outputs": [
    {
     "name": "stdout",
     "output_type": "stream",
     "text": [
      "Waiting on bqjob_r6cc503ec1970486b_00000174cab43824_1 ... (0s) Current status: DONE   \n",
      "+---------+-----------+-----------+\n",
      "| minutes | num_trips | pct_total |\n",
      "+---------+-----------+-----------+\n",
      "|     1.0 |      2355 |      0.24 |\n",
      "|     2.0 |     14722 |       1.5 |\n",
      "|     3.0 |     44361 |      4.51 |\n",
      "|     4.0 |     76418 |      7.77 |\n",
      "|     5.0 |     82518 |      8.39 |\n",
      "|     6.0 |     87353 |      8.88 |\n",
      "|     7.0 |     87847 |      8.93 |\n",
      "|     8.0 |     85073 |      8.65 |\n",
      "|     9.0 |     78198 |      7.95 |\n",
      "|    10.0 |     69599 |      7.08 |\n",
      "|    11.0 |     60162 |      6.12 |\n",
      "|    12.0 |     49975 |      5.08 |\n",
      "|    13.0 |     40566 |      4.12 |\n",
      "|    14.0 |     32686 |      3.32 |\n",
      "|    15.0 |     26059 |      2.65 |\n",
      "|    16.0 |     20149 |      2.05 |\n",
      "|    17.0 |     15322 |      1.56 |\n",
      "|    18.0 |     11603 |      1.18 |\n",
      "|    19.0 |      9154 |      0.93 |\n",
      "|    20.0 |      7193 |      0.73 |\n",
      "|    21.0 |      6053 |      0.62 |\n",
      "|    22.0 |      5202 |      0.53 |\n",
      "|    23.0 |      4497 |      0.46 |\n",
      "|    24.0 |      4013 |      0.41 |\n",
      "|    25.0 |      3686 |      0.37 |\n",
      "|    26.0 |      3294 |      0.33 |\n",
      "|    27.0 |      2763 |      0.28 |\n",
      "|    28.0 |      2432 |      0.25 |\n",
      "|    29.0 |      2099 |      0.21 |\n",
      "|    30.0 |      1798 |      0.18 |\n",
      "+---------+-----------+-----------+\n"
     ]
    }
   ],
   "source": [
    "! bq query --use_legacy_sql=FALSE 'SELECT ROUND(duration_sec/60, 0) AS minutes, COUNT(trip_id) AS num_trips, ROUND(COUNT(trip_id)/(SELECT COUNT(trip_id) FROM `bigquery-public-data.san_francisco.bikeshare_trips`)*100, 2) AS pct_total FROM `bigquery-public-data.san_francisco.bikeshare_trips` GROUP BY minutes ORDER BY minutes LIMIT 30'"
   ]
  },
  {
   "cell_type": "code",
   "execution_count": 971,
   "metadata": {},
   "outputs": [
    {
     "name": "stdout",
     "output_type": "stream",
     "text": [
      "Waiting on bqjob_r48201ab774080d1c_00000174cab451be_1 ... (0s) Current status: DONE   \n",
      "+----------+-----------+-----------+\n",
      "| minutes  | num_trips | pct_total |\n",
      "+----------+-----------+-----------+\n",
      "| 287840.0 |         1 |       0.0 |\n",
      "|  35617.0 |         1 |       0.0 |\n",
      "|  30877.0 |         1 |       0.0 |\n",
      "|  18892.0 |         1 |       0.0 |\n",
      "|  12037.0 |         1 |       0.0 |\n",
      "|  12008.0 |         1 |       0.0 |\n",
      "|  11941.0 |         1 |       0.0 |\n",
      "|  11922.0 |         1 |       0.0 |\n",
      "|  11482.0 |         1 |       0.0 |\n",
      "|  10932.0 |         1 |       0.0 |\n",
      "+----------+-----------+-----------+\n"
     ]
    }
   ],
   "source": [
    "! bq query --use_legacy_sql=FALSE 'SELECT ROUND(duration_sec/60, 0) AS minutes, COUNT(trip_id) AS num_trips, ROUND(COUNT(trip_id)/(SELECT COUNT(trip_id) FROM `bigquery-public-data.san_francisco.bikeshare_trips`)*100, 2) AS pct_total FROM `bigquery-public-data.san_francisco.bikeshare_trips` GROUP BY minutes ORDER BY minutes DESC LIMIT 10'"
   ]
  },
  {
   "cell_type": "markdown",
   "metadata": {},
   "source": [
    "### Which stations concentrate most of the trips?"
   ]
  },
  {
   "cell_type": "markdown",
   "metadata": {},
   "source": [
    "Stations 70, 69, 50, 60, 61, 55, 74, 77, 65, 67, and 76 concentrate most of the trips, either as origin or destination stations."
   ]
  },
  {
   "cell_type": "code",
   "execution_count": 972,
   "metadata": {},
   "outputs": [
    {
     "name": "stdout",
     "output_type": "stream",
     "text": [
      "Waiting on bqjob_r58d1fa5adaf03a90_00000174cab49d91_1 ... (0s) Current status: DONE   \n",
      "+----------+-----------------------------------------------+-----------+\n",
      "| start_id |                  start_name                   | num_trips |\n",
      "+----------+-----------------------------------------------+-----------+\n",
      "|       70 | San Francisco Caltrain (Townsend at 4th)      |     72683 |\n",
      "|       69 | San Francisco Caltrain 2 (330 Townsend)       |     56100 |\n",
      "|       50 | Harry Bridges Plaza (Ferry Building)          |     49062 |\n",
      "|       60 | Embarcadero at Sansome                        |     41137 |\n",
      "|       61 | 2nd at Townsend                               |     39936 |\n",
      "|       55 | Temporary Transbay Terminal (Howard at Beale) |     39200 |\n",
      "|       74 | Steuart at Market                             |     38531 |\n",
      "|       77 | Market at Sansome                             |     35142 |\n",
      "|       65 | Townsend at 7th                               |     34894 |\n",
      "|       67 | Market at 10th                                |     30209 |\n",
      "+----------+-----------------------------------------------+-----------+\n"
     ]
    }
   ],
   "source": [
    "! bq query --use_legacy_sql=FALSE 'SELECT MAX(start_station_id) AS start_id, MAX(start_station_name) AS start_name, COUNT(trip_id) AS num_trips FROM `bigquery-public-data.san_francisco.bikeshare_trips` GROUP BY start_station_id ORDER BY num_trips DESC LIMIT 10'"
   ]
  },
  {
   "cell_type": "code",
   "execution_count": 973,
   "metadata": {},
   "outputs": [
    {
     "name": "stdout",
     "output_type": "stream",
     "text": [
      "Waiting on bqjob_r3414ffd44d5f8957_00000174cab4b495_1 ... (0s) Current status: DONE   \n",
      "+--------+-----------------------------------------------+-----------+\n",
      "| end_id |                   end_name                    | num_trips |\n",
      "+--------+-----------------------------------------------+-----------+\n",
      "|     70 | San Francisco Caltrain (Townsend at 4th)      |     92014 |\n",
      "|     69 | San Francisco Caltrain 2 (330 Townsend)       |     58713 |\n",
      "|     50 | Harry Bridges Plaza (Ferry Building)          |     50185 |\n",
      "|     60 | Embarcadero at Sansome                        |     46197 |\n",
      "|     61 | 2nd at Townsend                               |     44145 |\n",
      "|     77 | Market at Sansome                             |     40956 |\n",
      "|     74 | Steuart at Market                             |     39598 |\n",
      "|     65 | Townsend at 7th                               |     38545 |\n",
      "|     55 | Temporary Transbay Terminal (Howard at Beale) |     35477 |\n",
      "|     76 | Market at 4th                                 |     26762 |\n",
      "+--------+-----------------------------------------------+-----------+\n"
     ]
    }
   ],
   "source": [
    "! bq query --use_legacy_sql=FALSE 'SELECT MAX(end_station_id) AS end_id, MAX(end_station_name) AS end_name, COUNT(trip_id) AS num_trips FROM `bigquery-public-data.san_francisco.bikeshare_trips` GROUP BY end_station_id ORDER BY num_trips DESC LIMIT 10'"
   ]
  },
  {
   "cell_type": "markdown",
   "metadata": {},
   "source": [
    "### What is the share of trips done by regular customers vs. subscribers?"
   ]
  },
  {
   "cell_type": "markdown",
   "metadata": {},
   "source": [
    "The majority of trips are done by subscribers."
   ]
  },
  {
   "cell_type": "code",
   "execution_count": 974,
   "metadata": {},
   "outputs": [
    {
     "name": "stdout",
     "output_type": "stream",
     "text": [
      "Waiting on bqjob_r1d75dd077abaa42d_00000174cab4d46e_1 ... (0s) Current status: DONE   \n",
      "+-----------------+-----------+\n",
      "| subscriber_type | num_trips |\n",
      "+-----------------+-----------+\n",
      "| Customer        |    136809 |\n",
      "| Subscriber      |    846839 |\n",
      "+-----------------+-----------+\n"
     ]
    }
   ],
   "source": [
    "! bq query --use_legacy_sql=FALSE 'SELECT subscriber_type, COUNT(trip_id) AS num_trips FROM `bigquery-public-data.san_francisco.bikeshare_trips` GROUP BY subscriber_type'"
   ]
  },
  {
   "cell_type": "markdown",
   "metadata": {},
   "source": [
    "### How many stations are there in the system?"
   ]
  },
  {
   "cell_type": "markdown",
   "metadata": {},
   "source": [
    "There are 74 stations in the system."
   ]
  },
  {
   "cell_type": "code",
   "execution_count": 975,
   "metadata": {},
   "outputs": [
    {
     "name": "stdout",
     "output_type": "stream",
     "text": [
      "Waiting on bqjob_r70e20b82adc5fb72_00000174cab4e9fe_1 ... (0s) Current status: DONE   \n",
      "+--------------+\n",
      "| num_stations |\n",
      "+--------------+\n",
      "|           74 |\n",
      "+--------------+\n"
     ]
    }
   ],
   "source": [
    "! bq query --use_legacy_sql=FALSE 'SELECT COUNT(DISTINCT station_id) AS num_stations FROM `bigquery-public-data.san_francisco.bikeshare_stations`'"
   ]
  },
  {
   "cell_type": "markdown",
   "metadata": {},
   "source": [
    "### Is there duplicated station_ids on the dataset?"
   ]
  },
  {
   "cell_type": "markdown",
   "metadata": {},
   "source": [
    "No, as the COUNT of station_id field returned the same result as the COUNT of DISTINCT station_id."
   ]
  },
  {
   "cell_type": "code",
   "execution_count": 976,
   "metadata": {},
   "outputs": [
    {
     "name": "stdout",
     "output_type": "stream",
     "text": [
      "Waiting on bqjob_r3183ab4f1c8234b6_00000174cab4fed1_1 ... (0s) Current status: DONE   \n",
      "+--------------+\n",
      "| num_stations |\n",
      "+--------------+\n",
      "|           74 |\n",
      "+--------------+\n"
     ]
    }
   ],
   "source": [
    "! bq query --use_legacy_sql=FALSE 'SELECT COUNT(station_id) AS num_stations FROM `bigquery-public-data.san_francisco.bikeshare_stations`'"
   ]
  },
  {
   "cell_type": "markdown",
   "metadata": {},
   "source": [
    "### When does the oldest station was opened and when does the newest station was opened?"
   ]
  },
  {
   "cell_type": "markdown",
   "metadata": {},
   "source": [
    "The oldest station was opened in 08/05/2013, while the newest station was opened in 08/04/2016."
   ]
  },
  {
   "cell_type": "code",
   "execution_count": 977,
   "metadata": {},
   "outputs": [
    {
     "name": "stdout",
     "output_type": "stream",
     "text": [
      "Waiting on bqjob_r68d66f3f4f6b42ba_00000174cab51b19_1 ... (0s) Current status: DONE   \n",
      "+----------------+----------------+\n",
      "| oldest_station | newest_station |\n",
      "+----------------+----------------+\n",
      "|     2013-08-05 |     2016-08-04 |\n",
      "+----------------+----------------+\n"
     ]
    }
   ],
   "source": [
    "! bq query --use_legacy_sql=FALSE 'SELECT MIN(installation_date) AS oldest_station, MAX(installation_date) AS newest_station FROM `bigquery-public-data.san_francisco.bikeshare_stations`'"
   ]
  },
  {
   "cell_type": "markdown",
   "metadata": {},
   "source": [
    "### What are the largest and the smallest stations in the system?"
   ]
  },
  {
   "cell_type": "markdown",
   "metadata": {},
   "source": [
    "The largest stations are 90 and 91 with more than 30 docks each. The smallest stations are 4, 32, 35, and 37 with only 11 docks each."
   ]
  },
  {
   "cell_type": "code",
   "execution_count": 978,
   "metadata": {},
   "outputs": [
    {
     "name": "stdout",
     "output_type": "stream",
     "text": [
      "Waiting on bqjob_r6746781ff04d994c_00000174cab53631_1 ... (0s) Current status: DONE   \n",
      "+------------+-----------------------------------------------+-----------+\n",
      "| station_id |                     name                      | dockcount |\n",
      "+------------+-----------------------------------------------+-----------+\n",
      "|         91 | Cyril Magnin St at Ellis St                   |        35 |\n",
      "|         90 | 5th St at Folsom St                           |        31 |\n",
      "|          2 | San Jose Diridon Caltrain Station             |        27 |\n",
      "|         61 | 2nd at Townsend                               |        27 |\n",
      "|         67 | Market at 10th                                |        27 |\n",
      "|         77 | Market at Sansome                             |        27 |\n",
      "|         22 | Redwood City Caltrain Station                 |        25 |\n",
      "|         34 | Palo Alto Caltrain Station                    |        23 |\n",
      "|         29 | San Antonio Caltrain Station                  |        23 |\n",
      "|         28 | Mountain View Caltrain Station                |        23 |\n",
      "|         50 | Harry Bridges Plaza (Ferry Building)          |        23 |\n",
      "|         55 | Temporary Transbay Terminal (Howard at Beale) |        23 |\n",
      "|         59 | Golden Gate at Polk                           |        23 |\n",
      "|         72 | Civic Center BART (7th at Market)             |        23 |\n",
      "|         69 | San Francisco Caltrain 2 (330 Townsend)       |        23 |\n",
      "|         74 | Steuart at Market                             |        23 |\n",
      "|         73 | Grant Avenue at Columbus Avenue               |        19 |\n",
      "|         14 | Arena Green / SAP Center                      |        19 |\n",
      "|          5 | Adobe on Almaden                              |        19 |\n",
      "|         11 | MLK Library                                   |        19 |\n",
      "|         12 | SJSU 4th at San Carlos                        |        19 |\n",
      "|         89 | S. Market st at Park Ave                      |        19 |\n",
      "|         88 | 5th S. at E. San Salvador St                  |        19 |\n",
      "|         47 | Post at Kearney                               |        19 |\n",
      "|         56 | Beale at Market                               |        19 |\n",
      "|         51 | Embarcadero at Folsom                         |        19 |\n",
      "|         49 | Spear at Folsom                               |        19 |\n",
      "|         58 | San Francisco City Hall                       |        19 |\n",
      "|         62 | 2nd at Folsom                                 |        19 |\n",
      "|         63 | Howard at 2nd                                 |        19 |\n",
      "|         68 | Yerba Buena Center of the Arts (3rd @ Howard) |        19 |\n",
      "|         66 | South Van Ness at Market                      |        19 |\n",
      "|         70 | San Francisco Caltrain (Townsend at 4th)      |        19 |\n",
      "|         71 | Powell at Post (Union Square)                 |        19 |\n",
      "|         75 | Mechanics Plaza (Market at Battery)           |        19 |\n",
      "|         76 | Market at 4th                                 |        19 |\n",
      "|         39 | Powell Street BART                            |        19 |\n",
      "|         84 | Ryland Park                                   |        15 |\n",
      "|          8 | San Salvador at 1st                           |        15 |\n",
      "|          9 | Japantown                                     |        15 |\n",
      "|          3 | San Jose Civic Center                         |        15 |\n",
      "|         13 | St James Park                                 |        15 |\n",
      "|         10 | San Jose City Hall                            |        15 |\n",
      "|         16 | SJSU - San Salvador at 9th                    |        15 |\n",
      "|          7 | Paseo de San Antonio                          |        15 |\n",
      "|          6 | San Pedro Square                              |        15 |\n",
      "|         25 | Stanford in Redwood City                      |        15 |\n",
      "|         21 | Franklin at Maple                             |        15 |\n",
      "|         24 | Redwood City Public Library                   |        15 |\n",
      "|         26 | Redwood City Medical Center                   |        15 |\n",
      "|         38 | Park at Olive                                 |        15 |\n",
      "|         36 | California Ave Caltrain Station               |        15 |\n",
      "|         23 | San Mateo County Center                       |        15 |\n",
      "|         27 | Mountain View City Hall                       |        15 |\n",
      "|         41 | Clay at Battery                               |        15 |\n",
      "|         48 | Embarcadero at Vallejo                        |        15 |\n",
      "|         46 | Washington at Kearney                         |        15 |\n",
      "|         42 | Davis at Jackson                              |        15 |\n",
      "|         45 | Commercial at Montgomery                      |        15 |\n",
      "|         54 | Embarcadero at Bryant                         |        15 |\n",
      "|         60 | Embarcadero at Sansome                        |        15 |\n",
      "|         57 | 5th at Howard                                 |        15 |\n",
      "|         33 | Charleston Park/ North Bayshore Area          |        15 |\n",
      "|         30 | Middlefield Light Rail Station                |        15 |\n",
      "|         65 | Townsend at 7th                               |        15 |\n",
      "|         64 | 2nd at South Park                             |        15 |\n",
      "|         80 | Santa Clara County Civic Center               |        15 |\n",
      "|         31 | San Antonio Shopping Center                   |        15 |\n",
      "|         82 | Broadway St at Battery St                     |        15 |\n",
      "|         83 | Mezes Park                                    |        15 |\n",
      "|          4 | Santa Clara at Almaden                        |        11 |\n",
      "|         37 | Cowper at University                          |        11 |\n",
      "|         35 | University and Emerson                        |        11 |\n",
      "|         32 | Castro Street and El Camino Real              |        11 |\n",
      "+------------+-----------------------------------------------+-----------+\n"
     ]
    }
   ],
   "source": [
    "! bq query --use_legacy_sql=FALSE 'SELECT station_id, name, dockcount FROM `bigquery-public-data.san_francisco.bikeshare_stations` ORDER BY dockcount DESC'"
   ]
  },
  {
   "cell_type": "markdown",
   "metadata": {},
   "source": [
    "### How many stations are there by city?"
   ]
  },
  {
   "cell_type": "markdown",
   "metadata": {},
   "source": [
    "San Francisco concentrates most of the stations with a total of 37, followed by San Jose with a total of 18."
   ]
  },
  {
   "cell_type": "code",
   "execution_count": 979,
   "metadata": {},
   "outputs": [
    {
     "name": "stdout",
     "output_type": "stream",
     "text": [
      "Waiting on bqjob_r6df12e4be560f136_00000174cab567ab_1 ... (0s) Current status: DONE   \n",
      "+---------------+--------------+\n",
      "|   landmark    | num_stations |\n",
      "+---------------+--------------+\n",
      "| San Francisco |           37 |\n",
      "| San Jose      |           18 |\n",
      "| Mountain View |            7 |\n",
      "| Redwood City  |            7 |\n",
      "| Palo Alto     |            5 |\n",
      "+---------------+--------------+\n"
     ]
    }
   ],
   "source": [
    "! bq query --use_legacy_sql=FALSE 'SELECT landmark, COUNT(station_id) as num_stations FROM `bigquery-public-data.san_francisco.bikeshare_stations` GROUP BY landmark ORDER BY num_stations DESC'"
   ]
  },
  {
   "cell_type": "markdown",
   "metadata": {},
   "source": [
    "### What was the earliest and latest status change computed on a station?"
   ]
  },
  {
   "cell_type": "markdown",
   "metadata": {},
   "source": [
    "The earliest status change was computed on 08/29/2013 at 12h06pm, while the latest status change was computed on 08/31/2016 on 11h58pm."
   ]
  },
  {
   "cell_type": "code",
   "execution_count": 980,
   "metadata": {},
   "outputs": [
    {
     "name": "stdout",
     "output_type": "stream",
     "text": [
      "Waiting on bqjob_r2ff42eb4ef777574_00000174cab58060_1 ... (2s) Current status: DONE   \n",
      "+---------------------+---------------------+\n",
      "|  min_stauts_change  |  max_status_change  |\n",
      "+---------------------+---------------------+\n",
      "| 2013-08-29 12:06:01 | 2016-08-31 23:58:59 |\n",
      "+---------------------+---------------------+\n"
     ]
    }
   ],
   "source": [
    "! bq query --use_legacy_sql=FALSE 'SELECT MIN(time) AS min_stauts_change, MAX(time) AS max_status_change FROM `bigquery-public-data.san_francisco.bikeshare_status`'"
   ]
  },
  {
   "cell_type": "markdown",
   "metadata": {},
   "source": [
    "### How many snapshots of availability does each station in the system received over time?"
   ]
  },
  {
   "cell_type": "markdown",
   "metadata": {},
   "source": [
    "The vast majority of stations have a pretty abundant profile of availability snapshots, ranging over all the period of the dataset, except for stations 88, 89, 90 and 91 which have data available only for a week in August, 2016, and station 87 which have data available only for few hours in 2016/07/18."
   ]
  },
  {
   "cell_type": "code",
   "execution_count": 981,
   "metadata": {},
   "outputs": [
    {
     "name": "stdout",
     "output_type": "stream",
     "text": [
      "Waiting on bqjob_r7608487198c0e8bf_00000174cab5c49a_1 ... (2s) Current status: DONE   \n",
      "+---------+---------------+---------------------+---------------------+\n",
      "| station | num_snapshots |   first_snapshot    |   last_snapthost    |\n",
      "+---------+---------------+---------------------+---------------------+\n",
      "|       5 |       1559598 | 2013-08-29 12:06:01 | 2016-08-31 23:58:59 |\n",
      "|       6 |       1559598 | 2013-08-29 12:06:01 | 2016-08-31 23:58:59 |\n",
      "|       7 |       1559598 | 2013-08-29 12:06:01 | 2016-08-31 23:58:59 |\n",
      "|       9 |       1559597 | 2013-08-29 12:06:01 | 2016-08-31 23:58:59 |\n",
      "|      10 |       1559597 | 2013-08-29 12:06:01 | 2016-08-31 23:58:59 |\n",
      "|      11 |       1559597 | 2013-08-29 12:06:01 | 2016-08-31 23:58:59 |\n",
      "|      12 |       1559597 | 2013-08-29 12:06:01 | 2016-08-31 23:58:59 |\n",
      "|      13 |       1559597 | 2013-08-29 12:06:01 | 2016-08-31 23:58:59 |\n",
      "|      16 |       1559597 | 2013-08-29 12:06:01 | 2016-08-31 23:58:59 |\n",
      "|      27 |       1559597 | 2013-08-29 12:06:01 | 2016-08-31 23:58:59 |\n",
      "|      28 |       1559597 | 2013-08-29 12:06:01 | 2016-08-31 23:58:59 |\n",
      "|      29 |       1559597 | 2013-08-29 12:06:01 | 2016-08-31 23:58:59 |\n",
      "|      30 |       1559597 | 2013-08-29 12:06:01 | 2016-08-31 23:58:59 |\n",
      "|      33 |       1559597 | 2013-08-29 12:06:01 | 2016-08-31 23:58:59 |\n",
      "|      34 |       1559597 | 2013-08-29 12:06:01 | 2016-08-31 23:58:59 |\n",
      "|      36 |       1559597 | 2013-08-29 12:06:01 | 2016-08-31 23:58:59 |\n",
      "|      37 |       1559597 | 2013-08-29 12:06:01 | 2016-08-31 23:58:59 |\n",
      "|      38 |       1559597 | 2013-08-29 12:06:01 | 2016-08-31 23:58:59 |\n",
      "|      41 |       1559597 | 2013-08-29 12:06:01 | 2016-08-31 23:58:59 |\n",
      "|      42 |       1559597 | 2013-08-29 12:06:01 | 2016-08-31 23:58:59 |\n",
      "|      45 |       1559597 | 2013-08-29 12:06:01 | 2016-08-31 23:58:59 |\n",
      "|      46 |       1559597 | 2013-08-29 12:06:01 | 2016-08-31 23:58:59 |\n",
      "|      47 |       1559597 | 2013-08-29 12:06:01 | 2016-08-31 23:58:59 |\n",
      "|      48 |       1559597 | 2013-08-29 12:06:01 | 2016-08-31 23:58:59 |\n",
      "|      49 |       1559597 | 2013-08-29 12:06:01 | 2016-08-31 23:58:59 |\n",
      "|      54 |       1559597 | 2013-08-29 12:06:01 | 2016-08-31 23:58:59 |\n",
      "|      56 |       1559597 | 2013-08-29 12:06:01 | 2016-08-31 23:58:59 |\n",
      "|      57 |       1559597 | 2013-08-29 12:06:01 | 2016-08-31 23:58:59 |\n",
      "|      59 |       1559597 | 2013-08-29 12:06:01 | 2016-08-31 23:58:59 |\n",
      "|      60 |       1559597 | 2013-08-29 12:06:01 | 2016-08-31 23:58:59 |\n",
      "|      61 |       1559597 | 2013-08-29 12:06:01 | 2016-08-31 23:58:59 |\n",
      "|      64 |       1559597 | 2013-08-29 12:06:01 | 2016-08-31 23:58:59 |\n",
      "|      65 |       1559597 | 2013-08-29 12:06:01 | 2016-08-31 23:58:59 |\n",
      "|      66 |       1559597 | 2013-08-29 12:06:01 | 2016-08-31 23:58:59 |\n",
      "|      67 |       1559596 | 2013-08-29 12:06:01 | 2016-08-31 23:58:59 |\n",
      "|      68 |       1559596 | 2013-08-29 12:06:01 | 2016-08-31 23:58:59 |\n",
      "|      69 |       1559596 | 2013-08-29 12:06:01 | 2016-08-31 23:58:59 |\n",
      "|      70 |       1559596 | 2013-08-29 12:06:01 | 2016-08-31 23:58:59 |\n",
      "|      71 |       1559596 | 2013-08-29 12:06:01 | 2016-08-31 23:58:59 |\n",
      "|      72 |       1559596 | 2013-08-29 12:06:01 | 2016-08-31 23:58:59 |\n",
      "|      74 |       1559596 | 2013-08-29 12:06:01 | 2016-08-31 23:58:59 |\n",
      "|      75 |       1559596 | 2013-08-29 12:06:01 | 2016-08-31 23:58:59 |\n",
      "|      76 |       1559596 | 2013-08-29 12:06:01 | 2016-08-31 23:58:59 |\n",
      "|      77 |       1559595 | 2013-08-29 12:06:01 | 2016-08-31 23:58:59 |\n",
      "|      35 |       1559593 | 2013-08-29 12:06:01 | 2016-08-31 23:58:59 |\n",
      "|       3 |       1559569 | 2013-08-29 12:06:01 | 2016-08-31 23:58:59 |\n",
      "|       4 |       1559556 | 2013-08-29 12:06:01 | 2016-08-31 23:58:59 |\n",
      "|      50 |       1559429 | 2013-08-29 12:06:01 | 2016-08-31 23:58:59 |\n",
      "|      39 |       1559428 | 2013-08-29 12:06:01 | 2016-08-31 23:58:59 |\n",
      "|       2 |       1559354 | 2013-08-29 12:06:01 | 2016-08-31 23:58:59 |\n",
      "|       8 |       1559026 | 2013-08-29 12:06:01 | 2016-08-31 23:58:59 |\n",
      "|      55 |       1558589 | 2013-08-29 12:06:01 | 2016-08-31 23:58:59 |\n",
      "|      14 |       1557628 | 2013-08-29 12:06:01 | 2016-08-31 23:58:59 |\n",
      "|      62 |       1557562 | 2013-08-29 12:06:01 | 2016-08-31 23:58:59 |\n",
      "|      58 |       1557523 | 2013-08-29 12:06:01 | 2016-08-31 23:58:59 |\n",
      "|      51 |       1556728 | 2013-08-29 12:06:01 | 2016-08-31 23:58:59 |\n",
      "|      63 |       1554419 | 2013-08-29 12:06:01 | 2016-08-31 23:58:59 |\n",
      "|      73 |       1553183 | 2013-08-29 12:06:01 | 2016-08-31 23:58:59 |\n",
      "|      23 |       1544641 | 2013-08-29 12:06:01 | 2016-08-24 11:28:01 |\n",
      "|      24 |       1540519 | 2013-08-29 12:06:01 | 2016-08-24 11:47:01 |\n",
      "|      26 |       1504045 | 2013-08-29 12:06:01 | 2016-08-24 12:22:47 |\n",
      "|      25 |       1504042 | 2013-08-29 12:06:01 | 2016-08-24 12:37:01 |\n",
      "|      21 |       1478473 | 2013-08-29 12:06:01 | 2016-07-01 12:05:01 |\n",
      "|      22 |       1478458 | 2013-08-29 12:06:01 | 2016-06-30 23:59:02 |\n",
      "|      32 |       1384838 | 2013-12-31 06:21:03 | 2016-08-31 23:58:59 |\n",
      "|      31 |       1384691 | 2013-12-31 08:48:02 | 2016-08-31 23:58:59 |\n",
      "|      80 |       1384590 | 2013-12-31 10:29:03 | 2016-08-31 23:58:59 |\n",
      "|      82 |       1353406 | 2014-01-22 05:21:02 | 2016-08-31 23:58:59 |\n",
      "|      84 |       1243983 | 2014-04-09 12:33:03 | 2016-08-31 23:58:59 |\n",
      "|      83 |       1230188 | 2014-02-20 12:24:02 | 2016-07-01 00:02:01 |\n",
      "|      88 |          8965 | 2016-08-24 11:23:01 | 2016-08-31 23:58:59 |\n",
      "|      89 |          8945 | 2016-08-24 11:49:01 | 2016-08-31 23:58:59 |\n",
      "|      90 |          8916 | 2016-08-24 12:26:58 | 2016-08-31 23:58:59 |\n",
      "|      91 |          8905 | 2016-08-24 12:40:01 | 2016-08-31 23:58:59 |\n",
      "|      87 |           167 | 2016-07-18 08:08:02 | 2016-07-18 11:07:01 |\n",
      "+---------+---------------+---------------------+---------------------+\n"
     ]
    }
   ],
   "source": [
    "! bq query --use_legacy_sql=FALSE 'SELECT MAX(station_id) AS station, COUNT(time) AS num_snapshots, MIN(time) AS first_snapshot, MAX(time) AS last_snapthost FROM `bigquery-public-data.san_francisco.bikeshare_status` GROUP BY station_id ORDER BY num_snapshots DESC'"
   ]
  },
  {
   "cell_type": "markdown",
   "metadata": {},
   "source": [
    "### Are stations 87, 88, 89, 90 and 91 the newest ones to be installed in the system, which could explain the lower data availability?  "
   ]
  },
  {
   "cell_type": "markdown",
   "metadata": {},
   "source": [
    "In fact, stations 88, 89, 90 and 91 are amonst the newest in the system, which explains the lower availability of status data. Station 87 does not appear on the stations table and so will be ignored on the subsequent analyses."
   ]
  },
  {
   "cell_type": "code",
   "execution_count": 982,
   "metadata": {},
   "outputs": [
    {
     "name": "stdout",
     "output_type": "stream",
     "text": [
      "Waiting on bqjob_r1fb41f83ed969754_00000174cab6126f_1 ... (0s) Current status: DONE   \n",
      "+------------+-------------------+\n",
      "| station_id | installation_date |\n",
      "+------------+-------------------+\n",
      "|         90 |        2016-08-04 |\n",
      "|         91 |        2016-08-04 |\n",
      "|         89 |        2016-06-05 |\n",
      "|         88 |        2016-06-05 |\n",
      "+------------+-------------------+\n"
     ]
    }
   ],
   "source": [
    "! bq query --use_legacy_sql=FALSE 'SELECT station_id, installation_date FROM `bigquery-public-data.san_francisco.bikeshare_stations` WHERE station_id IN (87, 88, 89, 90, 91) ORDER BY installation_date DESC'"
   ]
  },
  {
   "cell_type": "markdown",
   "metadata": {},
   "source": [
    "### How many snapshots of availability does a given station (eg. station 28) received during a single day (eg. 2015/03/28) by hour?"
   ]
  },
  {
   "cell_type": "markdown",
   "metadata": {},
   "source": [
    "It received 60 snapshots of availability, suggesting 1 minute intervals between snapshots."
   ]
  },
  {
   "cell_type": "code",
   "execution_count": 983,
   "metadata": {},
   "outputs": [
    {
     "name": "stdout",
     "output_type": "stream",
     "text": [
      "Waiting on bqjob_r4a15c9233b4cf1c0_00000174cab6296b_1 ... (0s) Current status: DONE   \n",
      "+------+---------------+\n",
      "| hour | num_snapshots |\n",
      "+------+---------------+\n",
      "|    0 |            60 |\n",
      "|    1 |            60 |\n",
      "|    2 |            60 |\n",
      "|    3 |            60 |\n",
      "|    4 |            60 |\n",
      "|    5 |            60 |\n",
      "|    6 |            60 |\n",
      "|    7 |            60 |\n",
      "|    8 |            60 |\n",
      "|    9 |            60 |\n",
      "|   10 |            60 |\n",
      "|   11 |            60 |\n",
      "|   12 |            60 |\n",
      "|   13 |            60 |\n",
      "|   14 |            60 |\n",
      "|   15 |            60 |\n",
      "|   16 |            60 |\n",
      "|   17 |            60 |\n",
      "|   18 |            60 |\n",
      "|   19 |            60 |\n",
      "|   20 |            60 |\n",
      "|   21 |            60 |\n",
      "|   22 |            60 |\n",
      "|   23 |            60 |\n",
      "+------+---------------+\n"
     ]
    }
   ],
   "source": [
    "! bq query --use_legacy_sql=FALSE 'SELECT EXTRACT(HOUR FROM time) AS hour, COUNT(time) AS num_snapshots FROM `bigquery-public-data.san_francisco.bikeshare_status` WHERE station_id = 28 AND EXTRACT(YEAR FROM time) = 2015 AND EXTRACT(MONTH FROM time) = 03 AND EXTRACT(DAY FROM time) = 28 GROUP BY hour ORDER BY hour'"
   ]
  },
  {
   "cell_type": "markdown",
   "metadata": {},
   "source": [
    "### How does the bike availability fluctuates over the day in station 28?"
   ]
  },
  {
   "cell_type": "markdown",
   "metadata": {},
   "source": [
    "At station 28, bike availability peaks at ~56% during 8am, and drops to a minimum of ~43% at 11am."
   ]
  },
  {
   "cell_type": "code",
   "execution_count": 984,
   "metadata": {},
   "outputs": [
    {
     "name": "stdout",
     "output_type": "stream",
     "text": [
      "Waiting on bqjob_r22250db91cda9668_00000174cab646a4_1 ... (0s) Current status: DONE   \n",
      "+------+---------------------+---------------+--------------+\n",
      "| hour | avg_bikes_available | dock_capacity | availability |\n",
      "+------+---------------------+---------------+--------------+\n",
      "|    0 |                12.2 |          23.0 |        52.89 |\n",
      "|    1 |                12.1 |          23.0 |        52.79 |\n",
      "|    2 |                12.1 |          23.0 |         52.7 |\n",
      "|    3 |                12.1 |          23.0 |        52.68 |\n",
      "|    4 |                12.1 |          23.0 |        52.58 |\n",
      "|    5 |                12.1 |          23.0 |        52.64 |\n",
      "|    6 |                12.2 |          23.0 |        53.23 |\n",
      "|    7 |                12.6 |          23.0 |        54.72 |\n",
      "|    8 |                12.8 |          23.0 |        55.71 |\n",
      "|    9 |                11.2 |          23.0 |        48.85 |\n",
      "|   10 |                10.0 |          23.0 |         43.5 |\n",
      "|   11 |                 9.9 |          23.0 |        42.99 |\n",
      "|   12 |                10.0 |          23.0 |        43.39 |\n",
      "|   13 |                10.0 |          23.0 |        43.59 |\n",
      "|   14 |                10.0 |          23.0 |        43.59 |\n",
      "|   15 |                10.0 |          23.0 |        43.69 |\n",
      "|   16 |                10.4 |          23.0 |        45.11 |\n",
      "|   17 |                11.6 |          23.0 |        50.35 |\n",
      "|   18 |                12.5 |          23.0 |        54.36 |\n",
      "|   19 |                12.4 |          23.0 |        53.85 |\n",
      "|   20 |                12.3 |          23.0 |        53.55 |\n",
      "|   21 |                12.4 |          23.0 |        53.76 |\n",
      "|   22 |                12.2 |          23.0 |        53.27 |\n",
      "|   23 |                12.2 |          23.0 |        53.02 |\n",
      "+------+---------------------+---------------+--------------+\n"
     ]
    }
   ],
   "source": [
    "! bq query --use_legacy_sql=FALSE 'SELECT EXTRACT(HOUR FROM time) AS hour, ROUND(AVG(bikes_available), 1) AS avg_bikes_available, ROUND(AVG(bikes_available + docks_available), 0) AS dock_capacity, ROUND(SUM(bikes_available)/SUM(bikes_available + docks_available)*100,2) AS availability FROM `bigquery-public-data.san_francisco.bikeshare_status` WHERE station_id = 28 GROUP BY hour ORDER BY hour'"
   ]
  },
  {
   "cell_type": "markdown",
   "metadata": {},
   "source": [
    "### How did the overall bike availability fluctuate over time? "
   ]
  },
  {
   "cell_type": "markdown",
   "metadata": {},
   "source": [
    "Bike availability fluctuated on the overall system from a minimum of 32% to a maximum of 48%. In general it is quite stable, with a light upward trend in the last few months."
   ]
  },
  {
   "cell_type": "code",
   "execution_count": 985,
   "metadata": {},
   "outputs": [
    {
     "name": "stdout",
     "output_type": "stream",
     "text": [
      "Waiting on bqjob_r5e372d2a8a62885e_00000174cab6667c_1 ... (0s) Current status: DONE   \n",
      "+------+-------+-------------------+\n",
      "| year | month | bike_availability |\n",
      "+------+-------+-------------------+\n",
      "| 2013 |     8 |             37.18 |\n",
      "| 2013 |     9 |             39.01 |\n",
      "| 2013 |    10 |             36.03 |\n",
      "| 2013 |    11 |              41.2 |\n",
      "| 2013 |    12 |             43.44 |\n",
      "| 2014 |     1 |             42.31 |\n",
      "| 2014 |     2 |             40.02 |\n",
      "| 2014 |     3 |             35.81 |\n",
      "| 2014 |     4 |             37.55 |\n",
      "| 2014 |     5 |              32.0 |\n",
      "| 2014 |     6 |             35.22 |\n",
      "| 2014 |     7 |             34.86 |\n",
      "| 2014 |     8 |             42.22 |\n",
      "| 2014 |     9 |             39.56 |\n",
      "| 2014 |    10 |             45.56 |\n",
      "| 2014 |    11 |             46.14 |\n",
      "| 2014 |    12 |             47.58 |\n",
      "| 2015 |     1 |             44.15 |\n",
      "| 2015 |     2 |             38.57 |\n",
      "| 2015 |     3 |             47.96 |\n",
      "| 2015 |     4 |             37.69 |\n",
      "| 2015 |     5 |             38.54 |\n",
      "| 2015 |     6 |             37.27 |\n",
      "| 2015 |     7 |             37.63 |\n",
      "| 2015 |     8 |             35.35 |\n",
      "| 2015 |     9 |              35.1 |\n",
      "| 2015 |    10 |             37.24 |\n",
      "| 2015 |    11 |             43.58 |\n",
      "| 2015 |    12 |             46.24 |\n",
      "| 2016 |     1 |              51.4 |\n",
      "| 2016 |     2 |             46.96 |\n",
      "| 2016 |     3 |             36.83 |\n",
      "| 2016 |     4 |             35.36 |\n",
      "| 2016 |     5 |             40.59 |\n",
      "| 2016 |     6 |              34.5 |\n",
      "| 2016 |     7 |             41.13 |\n",
      "| 2016 |     8 |             38.53 |\n",
      "+------+-------+-------------------+\n"
     ]
    }
   ],
   "source": [
    "! bq query --use_legacy_sql=FALSE 'SELECT EXTRACT(YEAR FROM time) AS year, EXTRACT(MONTH FROM time) AS month, ROUND(AVG(bikes_available)/(AVG(docks_available) + AVG(bikes_available))*100, 2) AS bike_availability FROM `bigquery-public-data.san_francisco.bikeshare_status` WHERE station_id = 56 GROUP BY year, month ORDER BY year, month'"
   ]
  },
  {
   "cell_type": "markdown",
   "metadata": {},
   "source": [
    "<a id='project_questions'></a>\n",
    "## 5-Project Questions\n",
    "\n",
    "- In this section, we will perform the queries and visualizations that answers our Project Questions (posed on [Problem Statement](#problem_statement)).\n",
    "- We will follow a structure where we first state the question, then the answer, then the query we used, and finally the results we got in a table or plot format.\n",
    "- The findings of this section are the ones that will support our [Recommendations](#recommendations).\n",
    "- We will start this section performing the imports we will need ahead."
   ]
  },
  {
   "cell_type": "code",
   "execution_count": 986,
   "metadata": {},
   "outputs": [],
   "source": [
    "import numpy as np\n",
    "import pandas as pd\n",
    "import matplotlib.pyplot as plt\n",
    "import geopandas as gpd\n",
    "from shapely.geometry import Point\n",
    "%matplotlib inline"
   ]
  },
  {
   "cell_type": "markdown",
   "metadata": {},
   "source": [
    "### How fast have we been able to grow the overall number of trips in the system?"
   ]
  },
  {
   "cell_type": "markdown",
   "metadata": {},
   "source": [
    "For the past 12 months, we have not been able to grow our number of rides on a YoY basis. This indicates the opportunity to tweak our offering in order to attract more regular riders to our service. An attractive segment to go after are riders that use our service to commute on a daily basis from home to work, and vice versa. We will focus our study in understanding how to improve our offering to this valuable segment of riders."
   ]
  },
  {
   "cell_type": "code",
   "execution_count": 987,
   "metadata": {},
   "outputs": [],
   "source": [
    "%%bigquery num_trips_trend\n",
    "\n",
    "SELECT EXTRACT(YEAR FROM start_date) AS year, EXTRACT(MONTH FROM start_date) AS month, COUNT(trip_id) AS num_trips\n",
    "FROM `bigquery-public-data.san_francisco.bikeshare_trips`\n",
    "WHERE start_date >= '2013-09-01'\n",
    "GROUP BY year, month\n",
    "ORDER BY year, month"
   ]
  },
  {
   "cell_type": "code",
   "execution_count": 988,
   "metadata": {},
   "outputs": [],
   "source": [
    "num_trips_trend[\"date\"] = num_trips_trend[\"year\"].astype(str) + '/' + num_trips_trend[\"month\"].astype(str)\n",
    "num_trips_trend[\"date\"] = pd.to_datetime(num_trips_trend[\"date\"])\n",
    "num_trips_trend.drop(columns=[\"year\", \"month\"], inplace=True)\n",
    "num_trips_trend.set_index(\"date\", inplace=True)\n",
    "num_trips_trend[\"yoy_change\"] = 100*num_trips_trend.pct_change(12)"
   ]
  },
  {
   "cell_type": "code",
   "execution_count": 989,
   "metadata": {},
   "outputs": [
    {
     "data": {
      "image/png": "[encoded data removed]",
      "text/plain": [
       "<Figure size 864x432 with 2 Axes>"
      ]
     },
     "metadata": {
      "needs_background": "light"
     },
     "output_type": "display_data"
    }
   ],
   "source": [
    "fig, ax1 = plt.subplots(figsize=(12,6))\n",
    "ax1.set_title(\"Monthly demand evolution, from 2013-09 to 2016-09\", fontsize=20)\n",
    "ax1.plot(num_trips_trend.index, num_trips_trend[\"num_trips\"], color=\"darkblue\", marker=\"o\")\n",
    "ax1.set_xlabel(\"Months\", fontsize=12, labelpad=10)\n",
    "ax1.set_ylabel(\"Number of trips\", fontsize=12, labelpad=10)\n",
    "plt.ylim(0, 40000)\n",
    "ax2 = ax1.twinx()\n",
    "ax2.bar(num_trips_trend.index, num_trips_trend[\"yoy_change\"], width=20, color=(num_trips_trend[\"yoy_change\"] > 0).map({True: 'g', False: 'r'}), alpha=0.5)\n",
    "ax2.set_ylabel(\"YoY change %\", fontsize=12, labelpad=10)\n",
    "plt.ylim(-40, 40)\n",
    "plt.axhline(linewidth=1, linestyle=\"dashed\", color=\"k\")\n",
    "plt.show()"
   ]
  },
  {
   "cell_type": "markdown",
   "metadata": {},
   "source": [
    "### Which hours of the day concentrate the most number of trips ('commuter hours')?"
   ]
  },
  {
   "cell_type": "markdown",
   "metadata": {},
   "source": [
    "The hours of the day with the largest number of trips ('commuter hours') range from 7am to 10am in the morning, and from 4pm to 7pm in the evening. These hours are very popular hours to use our services, and are a valuable period of the day to strenght our offering."
   ]
  },
  {
   "cell_type": "code",
   "execution_count": 990,
   "metadata": {},
   "outputs": [],
   "source": [
    "%%bigquery trips_per_hour\n",
    "\n",
    "SELECT EXTRACT(HOUR FROM start_date) AS start_hour, COUNT(trip_id) AS num_trips, ROUND(COUNT(trip_id)/(SELECT COUNT(trip_id) FROM `bigquery-public-data.san_francisco.bikeshare_trips`)*100, 2) AS pct_total\n",
    "FROM `bigquery-public-data.san_francisco.bikeshare_trips`\n",
    "GROUP BY start_hour\n",
    "ORDER BY start_hour"
   ]
  },
  {
   "cell_type": "code",
   "execution_count": 991,
   "metadata": {},
   "outputs": [
    {
     "data": {
      "image/png": "[encoded data removed]",
      "text/plain": [
       "<Figure size 864x576 with 1 Axes>"
      ]
     },
     "metadata": {
      "needs_background": "light"
     },
     "output_type": "display_data"
    }
   ],
   "source": [
    "fig, ax = plt.subplots(figsize=(12,8))\n",
    "ax.barh(y=trips_per_hour[\"start_hour\"], width=trips_per_hour[\"pct_total\"], color=(trips_per_hour[\"pct_total\"] > 5).map({True: \"red\", False: \"lightgrey\"}), alpha=0.8)\n",
    "ax.spines['top'].set_visible(False)\n",
    "ax.spines['right'].set_visible(False)\n",
    "ax.set_xlabel(\"Percentage of trips\", fontsize=12, labelpad=10)\n",
    "ax.set_ylabel(\"Hour of the day\", fontsize=12, labelpad=10)\n",
    "ax.set_title(\"Distribution of trips by hour of the day\", fontdict={'fontsize':20})\n",
    "plt.ylim(-1, 24)\n",
    "plt.yticks([0,1,2,3,4,5,6,7,8,9,10,11,12,13,14,15,16,17,18,19,20,21,22,23])\n",
    "plt.xticks([0,2,4,6,8,10,12,14], labels=[0,\"2%\",\"4%\",\"6%\",\"8%\",\"10%\",\"12%\",\"14%\"])\n",
    "plt.show()"
   ]
  },
  {
   "cell_type": "markdown",
   "metadata": {},
   "source": [
    "### What is the mix of subscribers vs. regular customers during the commuter hours? How does it compare to the mix during other periods of the day? "
   ]
  },
  {
   "cell_type": "markdown",
   "metadata": {},
   "source": [
    "Subscribers make 92% of the trips during the commuter hours, compared with 77% of the trips in other periods of the day. This indicates that commuter hours are an excelent timing window to acquire loyal customers."
   ]
  },
  {
   "cell_type": "code",
   "execution_count": 992,
   "metadata": {},
   "outputs": [],
   "source": [
    "%%bigquery mix_commuter_hours\n",
    "\n",
    "SELECT subscriber_type, COUNT(trip_id) AS num_trips, ROUND(COUNT(trip_id)/\n",
    "                                                           (SELECT COUNT(trip_id)\n",
    "                                                            FROM `bigquery-public-data.san_francisco.bikeshare_trips`\n",
    "                                                            WHERE EXTRACT(HOUR FROM start_date) IN (7, 8, 9, 16, 17, 18))*100, 2)\n",
    "                                                            AS pct_total\n",
    "FROM `bigquery-public-data.san_francisco.bikeshare_trips`\n",
    "WHERE EXTRACT(HOUR FROM start_date) IN (7, 8, 9, 16, 17, 18)\n",
    "GROUP BY subscriber_type"
   ]
  },
  {
   "cell_type": "code",
   "execution_count": 993,
   "metadata": {},
   "outputs": [],
   "source": [
    "mix_commuter_hours.set_index(\"subscriber_type\", inplace=True)"
   ]
  },
  {
   "cell_type": "code",
   "execution_count": 994,
   "metadata": {},
   "outputs": [],
   "source": [
    "%%bigquery mix_other_hours\n",
    "\n",
    "SELECT subscriber_type, COUNT(trip_id) AS num_trips, ROUND(COUNT(trip_id)/\n",
    "                                                           (SELECT COUNT(trip_id)\n",
    "                                                            FROM `bigquery-public-data.san_francisco.bikeshare_trips`\n",
    "                                                            WHERE EXTRACT(HOUR FROM start_date) NOT IN (7, 8, 9, 16, 17, 18))*100, 2)\n",
    "                                                            AS pct_total\n",
    "FROM `bigquery-public-data.san_francisco.bikeshare_trips`\n",
    "WHERE EXTRACT(HOUR FROM start_date) NOT IN (7, 8, 9, 16, 17, 18)\n",
    "GROUP BY subscriber_type"
   ]
  },
  {
   "cell_type": "code",
   "execution_count": 995,
   "metadata": {},
   "outputs": [],
   "source": [
    "mix_other_hours.set_index(\"subscriber_type\", inplace=True)"
   ]
  },
  {
   "cell_type": "code",
   "execution_count": 1003,
   "metadata": {},
   "outputs": [
    {
     "data": {
      "image/png": "[encoded data removed]",
      "text/plain": [
       "<Figure size 864x576 with 2 Axes>"
      ]
     },
     "metadata": {},
     "output_type": "display_data"
    }
   ],
   "source": [
    "fig, (ax1, ax2) = plt.subplots(nrows=1, ncols=2, figsize=(12, 8), subplot_kw=dict(aspect=\"equal\"))\n",
    "\n",
    "labels_ax1 = mix_commuter_hours.index\n",
    "data_ax1 = mix_commuter_hours[\"num_trips\"]\n",
    "\n",
    "labels_ax2 = mix_other_hours.index\n",
    "data_ax2 = mix_other_hours[\"num_trips\"]\n",
    "\n",
    "wedges_ax1, _,_ = ax1.pie(data_ax1, wedgeprops=dict(width=0.5), startangle=-40, colors=(\"lightgray\", \"pink\"), autopct=\"%.1f%%\")\n",
    "wedges_ax2, _,_ = ax2.pie(data_ax2, wedgeprops=dict(width=0.5), startangle=-40, colors=(\"lightgray\", \"pink\"), autopct=\"%.1f%%\")\n",
    "\n",
    "bbox_props = dict(boxstyle=\"square,pad=0.3\", fc=\"w\", ec=\"k\", lw=0.72)\n",
    "kw = dict(arrowprops=dict(arrowstyle=\"-\"),\n",
    "          bbox=bbox_props, zorder=0, va=\"center\")\n",
    "\n",
    "for i, p in enumerate(wedges_ax1):\n",
    "    ang = (p.theta2 - p.theta1)/2. + p.theta1\n",
    "    y = np.sin(np.deg2rad(ang))\n",
    "    x = np.cos(np.deg2rad(ang))\n",
    "    horizontalalignment = {-1: \"right\", 1: \"left\"}[int(np.sign(x))]\n",
    "    connectionstyle = \"angle,angleA=0,angleB={}\".format(ang)\n",
    "    kw[\"arrowprops\"].update({\"connectionstyle\": connectionstyle})\n",
    "    ax1.annotate(labels_ax1[i], xy=(x, y), xytext=(1.35*np.sign(x), 1.4*y),\n",
    "                horizontalalignment=horizontalalignment, **kw)\n",
    "\n",
    "for i, p in enumerate(wedges_ax2):\n",
    "    ang = (p.theta2 - p.theta1)/2. + p.theta1\n",
    "    y = np.sin(np.deg2rad(ang))\n",
    "    x = np.cos(np.deg2rad(ang))\n",
    "    horizontalalignment = {-1: \"right\", 1: \"left\"}[int(np.sign(x))]\n",
    "    connectionstyle = \"angle,angleA=0,angleB={}\".format(ang)\n",
    "    kw[\"arrowprops\"].update({\"connectionstyle\": connectionstyle})\n",
    "    ax2.annotate(labels_ax2[i], xy=(x, y), xytext=(1.35*np.sign(x), 1.4*y),\n",
    "                horizontalalignment=horizontalalignment, **kw)    \n",
    "\n",
    "fig.suptitle(\"Mix of rides by type of customer\", fontsize=24, y=0.9)    \n",
    "    \n",
    "ax1.set_title(\"During commuter hours\", fontsize=18)\n",
    "ax2.set_title(\"Other periods of the day\", fontsize=18)\n",
    "\n",
    "plt.show()"
   ]
  },
  {
   "cell_type": "markdown",
   "metadata": {},
   "source": [
    "### What is the average trip duration during commuter hours? How does it compare with the trip duration in other periods of the day? "
   ]
  },
  {
   "cell_type": "markdown",
   "metadata": {},
   "source": [
    "Commuter hours trips are almost two times shorter than in other periods of the day. This allows a higher rotation of our bikes, which is a very good thing to the business."
   ]
  },
  {
   "cell_type": "code",
   "execution_count": 1004,
   "metadata": {},
   "outputs": [],
   "source": [
    "%%bigquery trip_duration\n",
    "\n",
    "SELECT (SELECT ROUND(AVG(duration_sec)/60, 1)\n",
    "FROM `bigquery-public-data.san_francisco.bikeshare_trips`\n",
    "WHERE EXTRACT(HOUR FROM start_date) IN (7, 8, 9, 16, 17, 18))\n",
    "AS commuter_hours_duration,\n",
    "(SELECT ROUND(AVG(duration_sec)/60, 1)\n",
    "FROM `bigquery-public-data.san_francisco.bikeshare_trips`\n",
    "WHERE EXTRACT(HOUR FROM start_date) NOT IN (7, 8, 9, 16, 17, 18))\n",
    "AS other_hours_duration\n",
    "FROM `bigquery-public-data.san_francisco.bikeshare_trips`\n",
    "GROUP BY commuter_hours_duration, other_hours_duration"
   ]
  },
  {
   "cell_type": "code",
   "execution_count": 1005,
   "metadata": {},
   "outputs": [
    {
     "data": {
      "image/png": "[encoded data removed]",
      "text/plain": [
       "<Figure size 864x432 with 1 Axes>"
      ]
     },
     "metadata": {
      "needs_background": "light"
     },
     "output_type": "display_data"
    }
   ],
   "source": [
    "ax = trip_duration.plot(kind=\"bar\", figsize=(12,6), color=(\"purple\", \"darkgreen\"), alpha=0.6)\n",
    "plt.title(\"Average trip duration (in minutes)\", fontsize=18)\n",
    "plt.ylim(0, 30)\n",
    "ax.spines['top'].set_visible(False)\n",
    "ax.spines['right'].set_visible(False)\n",
    "ax.axes.xaxis.set_visible(False)\n",
    "plt.annotate(\"12.8\", (-0.155, 13.5), fontsize=14)\n",
    "plt.annotate(\"23.4\", (0.1, 24), fontsize=14)\n",
    "plt.show()"
   ]
  },
  {
   "cell_type": "markdown",
   "metadata": {},
   "source": [
    "### What are the 5 most popular trips that we would call \"commuter trips\" in the morning?"
   ]
  },
  {
   "cell_type": "markdown",
   "metadata": {},
   "source": [
    "The origin-destination station pairs presented in the table below are the most demanded ones during the morning commuter hours, from 7am to 10am."
   ]
  },
  {
   "cell_type": "code",
   "execution_count": 1006,
   "metadata": {},
   "outputs": [],
   "source": [
    "%%bigquery comm_trips_morning\n",
    "\n",
    "SELECT MAX(start_station_id) AS origin_id, MAX(start_station_name) AS origin_name, MAX(end_station_id) AS dest_id, MAX(end_station_name) AS dest_name, COUNT(trip_id) AS num_trips\n",
    "FROM `bigquery-public-data.san_francisco.bikeshare_trips`\n",
    "WHERE EXTRACT(HOUR FROM start_date) IN (7, 8, 9)\n",
    "GROUP BY start_station_id, end_station_id\n",
    "ORDER BY num_trips\n",
    "DESC LIMIT 5"
   ]
  },
  {
   "cell_type": "code",
   "execution_count": 1007,
   "metadata": {},
   "outputs": [],
   "source": [
    "comm_trips_morning.set_index(\"origin_id\", inplace=True)"
   ]
  },
  {
   "cell_type": "code",
   "execution_count": 1008,
   "metadata": {},
   "outputs": [
    {
     "data": {
      "text/html": [
       "<div>\n",
       "<style scoped>\n",
       "    .dataframe tbody tr th:only-of-type {\n",
       "        vertical-align: middle;\n",
       "    }\n",
       "\n",
       "    .dataframe tbody tr th {\n",
       "        vertical-align: top;\n",
       "    }\n",
       "\n",
       "    .dataframe thead th {\n",
       "        text-align: right;\n",
       "    }\n",
       "</style>\n",
       "<table border=\"1\" class=\"dataframe\">\n",
       "  <thead>\n",
       "    <tr style=\"text-align: right;\">\n",
       "      <th></th>\n",
       "      <th>origin_name</th>\n",
       "      <th>dest_id</th>\n",
       "      <th>dest_name</th>\n",
       "      <th>num_trips</th>\n",
       "    </tr>\n",
       "    <tr>\n",
       "      <th>origin_id</th>\n",
       "      <th></th>\n",
       "      <th></th>\n",
       "      <th></th>\n",
       "      <th></th>\n",
       "    </tr>\n",
       "  </thead>\n",
       "  <tbody>\n",
       "    <tr>\n",
       "      <th>50</th>\n",
       "      <td>Harry Bridges Plaza (Ferry Building)</td>\n",
       "      <td>61</td>\n",
       "      <td>2nd at Townsend</td>\n",
       "      <td>4554</td>\n",
       "    </tr>\n",
       "    <tr>\n",
       "      <th>74</th>\n",
       "      <td>Steuart at Market</td>\n",
       "      <td>61</td>\n",
       "      <td>2nd at Townsend</td>\n",
       "      <td>3780</td>\n",
       "    </tr>\n",
       "    <tr>\n",
       "      <th>69</th>\n",
       "      <td>San Francisco Caltrain 2 (330 Townsend)</td>\n",
       "      <td>65</td>\n",
       "      <td>Townsend at 7th</td>\n",
       "      <td>3540</td>\n",
       "    </tr>\n",
       "    <tr>\n",
       "      <th>70</th>\n",
       "      <td>San Francisco Caltrain (Townsend at 4th)</td>\n",
       "      <td>51</td>\n",
       "      <td>Embarcadero at Folsom</td>\n",
       "      <td>3371</td>\n",
       "    </tr>\n",
       "    <tr>\n",
       "      <th>70</th>\n",
       "      <td>San Francisco Caltrain (Townsend at 4th)</td>\n",
       "      <td>55</td>\n",
       "      <td>Temporary Transbay Terminal (Howard at Beale)</td>\n",
       "      <td>3133</td>\n",
       "    </tr>\n",
       "  </tbody>\n",
       "</table>\n",
       "</div>"
      ],
      "text/plain": [
       "                                        origin_name  dest_id  \\\n",
       "origin_id                                                      \n",
       "50             Harry Bridges Plaza (Ferry Building)       61   \n",
       "74                                Steuart at Market       61   \n",
       "69          San Francisco Caltrain 2 (330 Townsend)       65   \n",
       "70         San Francisco Caltrain (Townsend at 4th)       51   \n",
       "70         San Francisco Caltrain (Townsend at 4th)       55   \n",
       "\n",
       "                                               dest_name  num_trips  \n",
       "origin_id                                                            \n",
       "50                                       2nd at Townsend       4554  \n",
       "74                                       2nd at Townsend       3780  \n",
       "69                                       Townsend at 7th       3540  \n",
       "70                                 Embarcadero at Folsom       3371  \n",
       "70         Temporary Transbay Terminal (Howard at Beale)       3133  "
      ]
     },
     "execution_count": 1008,
     "metadata": {},
     "output_type": "execute_result"
    }
   ],
   "source": [
    "comm_trips_morning"
   ]
  },
  {
   "cell_type": "markdown",
   "metadata": {},
   "source": [
    "### What are the 5 most popular trips that we would call \"commuter trips\" in the evening?"
   ]
  },
  {
   "cell_type": "markdown",
   "metadata": {},
   "source": [
    "The origin-destination station pairs presented in the table below are the most demanded ones during the evening commuter hours, from 4pm to 7pm."
   ]
  },
  {
   "cell_type": "code",
   "execution_count": 1009,
   "metadata": {},
   "outputs": [],
   "source": [
    "%%bigquery comm_trips_afternoon\n",
    "\n",
    "SELECT MAX(start_station_id) AS origin_id, MAX(start_station_name) AS origin_name, MAX(end_station_id) AS dest_id, MAX(end_station_name) AS dest_name, COUNT(trip_id) AS num_trips\n",
    "FROM `bigquery-public-data.san_francisco.bikeshare_trips`\n",
    "WHERE EXTRACT(HOUR FROM start_date) IN (16, 17, 18)\n",
    "GROUP BY start_station_id, end_station_id\n",
    "ORDER BY num_trips\n",
    "DESC LIMIT 5"
   ]
  },
  {
   "cell_type": "code",
   "execution_count": 1010,
   "metadata": {},
   "outputs": [],
   "source": [
    "comm_trips_afternoon.set_index(\"origin_id\", inplace=True)"
   ]
  },
  {
   "cell_type": "code",
   "execution_count": 1011,
   "metadata": {},
   "outputs": [
    {
     "data": {
      "text/html": [
       "<div>\n",
       "<style scoped>\n",
       "    .dataframe tbody tr th:only-of-type {\n",
       "        vertical-align: middle;\n",
       "    }\n",
       "\n",
       "    .dataframe tbody tr th {\n",
       "        vertical-align: top;\n",
       "    }\n",
       "\n",
       "    .dataframe thead th {\n",
       "        text-align: right;\n",
       "    }\n",
       "</style>\n",
       "<table border=\"1\" class=\"dataframe\">\n",
       "  <thead>\n",
       "    <tr style=\"text-align: right;\">\n",
       "      <th></th>\n",
       "      <th>origin_name</th>\n",
       "      <th>dest_id</th>\n",
       "      <th>dest_name</th>\n",
       "      <th>num_trips</th>\n",
       "    </tr>\n",
       "    <tr>\n",
       "      <th>origin_id</th>\n",
       "      <th></th>\n",
       "      <th></th>\n",
       "      <th></th>\n",
       "      <th></th>\n",
       "    </tr>\n",
       "  </thead>\n",
       "  <tbody>\n",
       "    <tr>\n",
       "      <th>61</th>\n",
       "      <td>2nd at Townsend</td>\n",
       "      <td>50</td>\n",
       "      <td>Harry Bridges Plaza (Ferry Building)</td>\n",
       "      <td>4303</td>\n",
       "    </tr>\n",
       "    <tr>\n",
       "      <th>51</th>\n",
       "      <td>Embarcadero at Folsom</td>\n",
       "      <td>70</td>\n",
       "      <td>San Francisco Caltrain (Townsend at 4th)</td>\n",
       "      <td>4065</td>\n",
       "    </tr>\n",
       "    <tr>\n",
       "      <th>60</th>\n",
       "      <td>Embarcadero at Sansome</td>\n",
       "      <td>74</td>\n",
       "      <td>Steuart at Market</td>\n",
       "      <td>4023</td>\n",
       "    </tr>\n",
       "    <tr>\n",
       "      <th>74</th>\n",
       "      <td>Steuart at Market</td>\n",
       "      <td>70</td>\n",
       "      <td>San Francisco Caltrain (Townsend at 4th)</td>\n",
       "      <td>3437</td>\n",
       "    </tr>\n",
       "    <tr>\n",
       "      <th>55</th>\n",
       "      <td>Temporary Transbay Terminal (Howard at Beale)</td>\n",
       "      <td>70</td>\n",
       "      <td>San Francisco Caltrain (Townsend at 4th)</td>\n",
       "      <td>3335</td>\n",
       "    </tr>\n",
       "  </tbody>\n",
       "</table>\n",
       "</div>"
      ],
      "text/plain": [
       "                                             origin_name  dest_id  \\\n",
       "origin_id                                                           \n",
       "61                                       2nd at Townsend       50   \n",
       "51                                 Embarcadero at Folsom       70   \n",
       "60                                Embarcadero at Sansome       74   \n",
       "74                                     Steuart at Market       70   \n",
       "55         Temporary Transbay Terminal (Howard at Beale)       70   \n",
       "\n",
       "                                          dest_name  num_trips  \n",
       "origin_id                                                       \n",
       "61             Harry Bridges Plaza (Ferry Building)       4303  \n",
       "51         San Francisco Caltrain (Townsend at 4th)       4065  \n",
       "60                                Steuart at Market       4023  \n",
       "74         San Francisco Caltrain (Townsend at 4th)       3437  \n",
       "55         San Francisco Caltrain (Townsend at 4th)       3335  "
      ]
     },
     "execution_count": 1011,
     "metadata": {},
     "output_type": "execute_result"
    }
   ],
   "source": [
    "comm_trips_afternoon"
   ]
  },
  {
   "cell_type": "markdown",
   "metadata": {},
   "source": [
    "### Which stations are the most demanded ones as origin points during commuter hours?"
   ]
  },
  {
   "cell_type": "markdown",
   "metadata": {},
   "source": [
    "The bar plots below present the 10 most demanded origin stations during the commuter hours. These are the most popular origin points in our system. We can see that overall the volume of trips is much more concentrated in some stations during the morning than during evening."
   ]
  },
  {
   "cell_type": "code",
   "execution_count": 1012,
   "metadata": {},
   "outputs": [],
   "source": [
    "%%bigquery most_demanded_stations_morning\n",
    "SELECT MAX(start_station_id) AS origin_id, MAX(start_station_name) AS origin_name, COUNT(trip_id) AS num_trips\n",
    "FROM `bigquery-public-data.san_francisco.bikeshare_trips`\n",
    "WHERE EXTRACT(HOUR FROM start_date) IN (7, 8, 9)\n",
    "GROUP BY start_station_id\n",
    "ORDER BY num_trips DESC\n",
    "LIMIT 10"
   ]
  },
  {
   "cell_type": "code",
   "execution_count": 1013,
   "metadata": {},
   "outputs": [],
   "source": [
    "%%bigquery most_demanded_stations_afternoon\n",
    "SELECT MAX(start_station_id) AS origin_id, MAX(start_station_name) AS origin_name, COUNT(trip_id) AS num_trips\n",
    "FROM `bigquery-public-data.san_francisco.bikeshare_trips`\n",
    "WHERE EXTRACT(HOUR FROM start_date) IN (16, 17, 18)\n",
    "GROUP BY start_station_id\n",
    "ORDER BY num_trips DESC\n",
    "LIMIT 10"
   ]
  },
  {
   "cell_type": "code",
   "execution_count": 1014,
   "metadata": {},
   "outputs": [
    {
     "data": {
      "image/png": "[encoded data removed]",
      "text/plain": [
       "<Figure size 864x432 with 2 Axes>"
      ]
     },
     "metadata": {
      "needs_background": "light"
     },
     "output_type": "display_data"
    }
   ],
   "source": [
    "fig, (ax1, ax2) = plt.subplots(nrows=1, ncols=2, sharey=True, figsize=(12,6))\n",
    "fig.suptitle(\"Top-10 origin stations during commuter hours\", fontsize=20, y=1.05)\n",
    "ax1.bar(x=most_demanded_stations_morning[\"origin_id\"].astype(str), height=most_demanded_stations_morning[\"num_trips\"], color=\"darkorange\", alpha=0.6)\n",
    "ax2.bar(x=most_demanded_stations_afternoon[\"origin_id\"].astype(str), height=most_demanded_stations_afternoon[\"num_trips\"], color=\"darkblue\", alpha=0.5)\n",
    "ax1.set_title(\"Morning: from 7am to 10am\", fontdict={'fontsize':16}, y=1.05)\n",
    "ax2.set_title(\"Afternoon: from 4pm to 7pm\", fontdict={'fontsize':16}, y=1.05)\n",
    "ax1.set_ylabel(\"Number of trips\", fontsize=12, labelpad=10)\n",
    "ax1.set_xlabel(\"Origin station IDs\", fontsize=12, labelpad=10)\n",
    "ax2.set_xlabel(\"Origin station IDs\", fontsize=12, labelpad=10)\n",
    "ax1.spines['top'].set_visible(False)\n",
    "ax1.spines['right'].set_visible(False)\n",
    "ax2.spines['top'].set_visible(False)\n",
    "ax2.spines['right'].set_visible(False)\n",
    "plt.ylim(0, 40000)\n",
    "plt.show()"
   ]
  },
  {
   "cell_type": "markdown",
   "metadata": {},
   "source": [
    "### Where does our most demanded origin stations are located?"
   ]
  },
  {
   "cell_type": "markdown",
   "metadata": {},
   "source": [
    "The maps below show the locations of our most demanded origin point stations during commuter hours."
   ]
  },
  {
   "cell_type": "code",
   "execution_count": 1015,
   "metadata": {},
   "outputs": [],
   "source": [
    "%%bigquery morning_stations\n",
    "SELECT trips.start_station_id AS station_id, MAX(stations.latitude) AS lat, MAX(stations.longitude) AS long, COUNT(trips.trip_id) AS num_trips\n",
    "FROM `bigquery-public-data.san_francisco.bikeshare_stations` AS stations\n",
    "INNER JOIN `bigquery-public-data.san_francisco.bikeshare_trips` AS trips ON stations.station_id=trips.start_station_id\n",
    "WHERE trips.start_station_id in (70, 69, 50, 55, 74, 61, 73, 54, 77, 67) AND EXTRACT(HOUR FROM trips.start_date) IN (7, 8, 9)\n",
    "GROUP BY trips.start_station_id\n",
    "ORDER BY num_trips DESC\n",
    "LIMIT 10"
   ]
  },
  {
   "cell_type": "code",
   "execution_count": 1016,
   "metadata": {},
   "outputs": [],
   "source": [
    "%%bigquery evening_stations\n",
    "SELECT trips.start_station_id AS station_id, MAX(stations.latitude) AS lat, MAX(stations.longitude) AS long, COUNT(trips.trip_id) AS num_trips\n",
    "FROM `bigquery-public-data.san_francisco.bikeshare_stations` AS stations\n",
    "INNER JOIN `bigquery-public-data.san_francisco.bikeshare_trips` AS trips ON stations.station_id=trips.start_station_id\n",
    "WHERE trips.start_station_id in (60, 65, 61, 70, 77, 74, 64, 69, 67, 55) AND EXTRACT(HOUR FROM trips.start_date) IN (16, 17, 18)\n",
    "GROUP BY trips.start_station_id\n",
    "ORDER BY num_trips DESC\n",
    "LIMIT 10"
   ]
  },
  {
   "cell_type": "code",
   "execution_count": 1017,
   "metadata": {},
   "outputs": [
    {
     "data": {
      "image/png": "[encoded data removed]",
      "text/plain": [
       "<Figure size 1440x1440 with 2 Axes>"
      ]
     },
     "metadata": {
      "needs_background": "light"
     },
     "output_type": "display_data"
    }
   ],
   "source": [
    "sf = gpd.read_file(\"sf.shp\")\n",
    "sf.set_geometry(\"geometry\")\n",
    "\n",
    "morning_stations[\"geometry\"] = morning_stations.apply(lambda row: Point(row[\"long\"], row[\"lat\"]), axis=1)\n",
    "evening_stations[\"geometry\"] = evening_stations.apply(lambda row: Point(row[\"long\"], row[\"lat\"]), axis=1)\n",
    "\n",
    "data1 = gpd.GeoDataFrame(morning_stations, crs=\"epsg:4326\", geometry=\"geometry\")\n",
    "data2 = gpd.GeoDataFrame(evening_stations, crs=\"epsg:4326\", geometry=\"geometry\")\n",
    "\n",
    "fig, (ax1, ax2) = plt.subplots(nrows=1, ncols=2, sharey=True, figsize=(20,20))\n",
    "fig.suptitle(\"Top-10 origin stations during commuter hours\", fontsize=24, y=0.62)\n",
    "ax1.set_title(\"Morning: from 7am to 10am\", fontdict={'fontsize':18})\n",
    "ax2.set_title(\"Afternoon: from 4pm to 7pm\", fontdict={'fontsize':18})\n",
    "sf_map1 = sf.plot(ax=ax1, color=\"lightgray\")\n",
    "sf_map2 = sf.plot(ax=ax2, color=\"lightgray\")\n",
    "data1.plot(ax=sf_map1, marker=\"o\", markersize=data1[\"num_trips\"]/20, color=\"darkorange\", alpha=0.3)\n",
    "data2.plot(ax=sf_map2, marker=\"o\", markersize=data2[\"num_trips\"]/20, color=\"darkblue\", alpha=0.3)\n",
    "plt.ylim(37.76, 37.82)\n",
    "ax1.spines['top'].set_visible(False)\n",
    "ax1.spines['right'].set_visible(False)\n",
    "ax2.spines['top'].set_visible(False)\n",
    "ax2.spines['right'].set_visible(False)\n",
    "ax1.axes.xaxis.set_visible(False)\n",
    "ax1.axes.yaxis.set_visible(False)\n",
    "ax2.axes.xaxis.set_visible(False)\n",
    "ax2.axes.yaxis.set_visible(False)\n",
    "plt.show()"
   ]
  },
  {
   "cell_type": "markdown",
   "metadata": {},
   "source": [
    "### How is the availability of bikes in the most demanded origin stations during commuter hours? Do we have spare capacity to offer to new users?"
   ]
  },
  {
   "cell_type": "markdown",
   "metadata": {},
   "source": [
    "The bicycle availability in the most demanded origin stations during commuter hours range from 33% to 54% in the morning, and from 37% to 62% in the evening. This indicates room for attraction of new users during commuter hours without jeopardizing quality of service for current users."
   ]
  },
  {
   "cell_type": "code",
   "execution_count": 1018,
   "metadata": {},
   "outputs": [],
   "source": [
    "%%bigquery bike_availability_morning\n",
    "SELECT station_id AS origin_id, ROUND(AVG(bikes_available), 1) AS bikes_available,\n",
    "ROUND(AVG(bikes_available) + AVG(docks_available), 0) AS dock_capacity,\n",
    "ROUND(AVG(bikes_available)/(AVG(bikes_available) + AVG(docks_available))*100, 2) AS bike_availability\n",
    "FROM `bigquery-public-data.san_francisco.bikeshare_status`\n",
    "WHERE station_id IN (70, 69, 50, 55, 74, 61, 73, 54, 77, 67)\n",
    "AND EXTRACT(HOUR FROM time) IN (7, 8, 9)\n",
    "GROUP BY station_id\n",
    "ORDER BY bike_availability DESC"
   ]
  },
  {
   "cell_type": "code",
   "execution_count": 1019,
   "metadata": {},
   "outputs": [],
   "source": [
    "bike_availability_morning.set_index(\"origin_id\", inplace=True)"
   ]
  },
  {
   "cell_type": "code",
   "execution_count": 1020,
   "metadata": {},
   "outputs": [
    {
     "data": {
      "text/html": [
       "<div>\n",
       "<style scoped>\n",
       "    .dataframe tbody tr th:only-of-type {\n",
       "        vertical-align: middle;\n",
       "    }\n",
       "\n",
       "    .dataframe tbody tr th {\n",
       "        vertical-align: top;\n",
       "    }\n",
       "\n",
       "    .dataframe thead th {\n",
       "        text-align: right;\n",
       "    }\n",
       "</style>\n",
       "<table border=\"1\" class=\"dataframe\">\n",
       "  <thead>\n",
       "    <tr style=\"text-align: right;\">\n",
       "      <th></th>\n",
       "      <th>bikes_available</th>\n",
       "      <th>dock_capacity</th>\n",
       "      <th>bike_availability</th>\n",
       "    </tr>\n",
       "    <tr>\n",
       "      <th>origin_id</th>\n",
       "      <th></th>\n",
       "      <th></th>\n",
       "      <th></th>\n",
       "    </tr>\n",
       "  </thead>\n",
       "  <tbody>\n",
       "    <tr>\n",
       "      <th>69</th>\n",
       "      <td>12.3</td>\n",
       "      <td>23.0</td>\n",
       "      <td>53.77</td>\n",
       "    </tr>\n",
       "    <tr>\n",
       "      <th>74</th>\n",
       "      <td>12.0</td>\n",
       "      <td>22.0</td>\n",
       "      <td>53.39</td>\n",
       "    </tr>\n",
       "    <tr>\n",
       "      <th>77</th>\n",
       "      <td>13.3</td>\n",
       "      <td>26.0</td>\n",
       "      <td>50.30</td>\n",
       "    </tr>\n",
       "    <tr>\n",
       "      <th>50</th>\n",
       "      <td>11.5</td>\n",
       "      <td>23.0</td>\n",
       "      <td>50.09</td>\n",
       "    </tr>\n",
       "    <tr>\n",
       "      <th>54</th>\n",
       "      <td>7.5</td>\n",
       "      <td>15.0</td>\n",
       "      <td>49.87</td>\n",
       "    </tr>\n",
       "    <tr>\n",
       "      <th>73</th>\n",
       "      <td>7.6</td>\n",
       "      <td>15.0</td>\n",
       "      <td>49.66</td>\n",
       "    </tr>\n",
       "    <tr>\n",
       "      <th>61</th>\n",
       "      <td>12.3</td>\n",
       "      <td>26.0</td>\n",
       "      <td>46.66</td>\n",
       "    </tr>\n",
       "    <tr>\n",
       "      <th>70</th>\n",
       "      <td>8.4</td>\n",
       "      <td>19.0</td>\n",
       "      <td>44.41</td>\n",
       "    </tr>\n",
       "    <tr>\n",
       "      <th>55</th>\n",
       "      <td>9.6</td>\n",
       "      <td>23.0</td>\n",
       "      <td>41.80</td>\n",
       "    </tr>\n",
       "    <tr>\n",
       "      <th>67</th>\n",
       "      <td>8.8</td>\n",
       "      <td>27.0</td>\n",
       "      <td>32.56</td>\n",
       "    </tr>\n",
       "  </tbody>\n",
       "</table>\n",
       "</div>"
      ],
      "text/plain": [
       "           bikes_available  dock_capacity  bike_availability\n",
       "origin_id                                                   \n",
       "69                    12.3           23.0              53.77\n",
       "74                    12.0           22.0              53.39\n",
       "77                    13.3           26.0              50.30\n",
       "50                    11.5           23.0              50.09\n",
       "54                     7.5           15.0              49.87\n",
       "73                     7.6           15.0              49.66\n",
       "61                    12.3           26.0              46.66\n",
       "70                     8.4           19.0              44.41\n",
       "55                     9.6           23.0              41.80\n",
       "67                     8.8           27.0              32.56"
      ]
     },
     "execution_count": 1020,
     "metadata": {},
     "output_type": "execute_result"
    }
   ],
   "source": [
    "bike_availability_morning"
   ]
  },
  {
   "cell_type": "code",
   "execution_count": 1021,
   "metadata": {},
   "outputs": [],
   "source": [
    "%%bigquery bike_availability_evening\n",
    "SELECT station_id AS origin_id, ROUND(AVG(bikes_available), 1) AS bikes_available,\n",
    "ROUND(AVG(bikes_available) + AVG(docks_available), 0) AS dock_capacity,\n",
    "ROUND(AVG(bikes_available)/(AVG(bikes_available) + AVG(docks_available))*100, 2) AS bike_availability\n",
    "FROM `bigquery-public-data.san_francisco.bikeshare_status`\n",
    "WHERE station_id IN (60, 65, 61, 70, 77, 74, 64, 69, 67, 55)\n",
    "AND EXTRACT(HOUR FROM time) IN (16, 17, 18)\n",
    "GROUP BY station_id\n",
    "ORDER BY bike_availability DESC"
   ]
  },
  {
   "cell_type": "code",
   "execution_count": 1022,
   "metadata": {},
   "outputs": [],
   "source": [
    "bike_availability_evening.set_index(\"origin_id\", inplace=True)"
   ]
  },
  {
   "cell_type": "code",
   "execution_count": 1023,
   "metadata": {},
   "outputs": [
    {
     "data": {
      "text/html": [
       "<div>\n",
       "<style scoped>\n",
       "    .dataframe tbody tr th:only-of-type {\n",
       "        vertical-align: middle;\n",
       "    }\n",
       "\n",
       "    .dataframe tbody tr th {\n",
       "        vertical-align: top;\n",
       "    }\n",
       "\n",
       "    .dataframe thead th {\n",
       "        text-align: right;\n",
       "    }\n",
       "</style>\n",
       "<table border=\"1\" class=\"dataframe\">\n",
       "  <thead>\n",
       "    <tr style=\"text-align: right;\">\n",
       "      <th></th>\n",
       "      <th>bikes_available</th>\n",
       "      <th>dock_capacity</th>\n",
       "      <th>bike_availability</th>\n",
       "    </tr>\n",
       "    <tr>\n",
       "      <th>origin_id</th>\n",
       "      <th></th>\n",
       "      <th></th>\n",
       "      <th></th>\n",
       "    </tr>\n",
       "  </thead>\n",
       "  <tbody>\n",
       "    <tr>\n",
       "      <th>70</th>\n",
       "      <td>11.6</td>\n",
       "      <td>19.0</td>\n",
       "      <td>61.51</td>\n",
       "    </tr>\n",
       "    <tr>\n",
       "      <th>77</th>\n",
       "      <td>12.4</td>\n",
       "      <td>26.0</td>\n",
       "      <td>47.12</td>\n",
       "    </tr>\n",
       "    <tr>\n",
       "      <th>69</th>\n",
       "      <td>10.8</td>\n",
       "      <td>23.0</td>\n",
       "      <td>47.04</td>\n",
       "    </tr>\n",
       "    <tr>\n",
       "      <th>60</th>\n",
       "      <td>7.0</td>\n",
       "      <td>15.0</td>\n",
       "      <td>46.85</td>\n",
       "    </tr>\n",
       "    <tr>\n",
       "      <th>74</th>\n",
       "      <td>10.5</td>\n",
       "      <td>22.0</td>\n",
       "      <td>46.79</td>\n",
       "    </tr>\n",
       "    <tr>\n",
       "      <th>65</th>\n",
       "      <td>6.8</td>\n",
       "      <td>15.0</td>\n",
       "      <td>45.29</td>\n",
       "    </tr>\n",
       "    <tr>\n",
       "      <th>61</th>\n",
       "      <td>11.8</td>\n",
       "      <td>26.0</td>\n",
       "      <td>44.87</td>\n",
       "    </tr>\n",
       "    <tr>\n",
       "      <th>55</th>\n",
       "      <td>10.1</td>\n",
       "      <td>23.0</td>\n",
       "      <td>44.30</td>\n",
       "    </tr>\n",
       "    <tr>\n",
       "      <th>64</th>\n",
       "      <td>6.6</td>\n",
       "      <td>15.0</td>\n",
       "      <td>43.89</td>\n",
       "    </tr>\n",
       "    <tr>\n",
       "      <th>67</th>\n",
       "      <td>10.0</td>\n",
       "      <td>27.0</td>\n",
       "      <td>37.00</td>\n",
       "    </tr>\n",
       "  </tbody>\n",
       "</table>\n",
       "</div>"
      ],
      "text/plain": [
       "           bikes_available  dock_capacity  bike_availability\n",
       "origin_id                                                   \n",
       "70                    11.6           19.0              61.51\n",
       "77                    12.4           26.0              47.12\n",
       "69                    10.8           23.0              47.04\n",
       "60                     7.0           15.0              46.85\n",
       "74                    10.5           22.0              46.79\n",
       "65                     6.8           15.0              45.29\n",
       "61                    11.8           26.0              44.87\n",
       "55                    10.1           23.0              44.30\n",
       "64                     6.6           15.0              43.89\n",
       "67                    10.0           27.0              37.00"
      ]
     },
     "execution_count": 1023,
     "metadata": {},
     "output_type": "execute_result"
    }
   ],
   "source": [
    "bike_availability_evening"
   ]
  },
  {
   "cell_type": "markdown",
   "metadata": {},
   "source": [
    "### Which stations are the most demanded ones as destination points during commuter hours?"
   ]
  },
  {
   "cell_type": "markdown",
   "metadata": {},
   "source": [
    "The bar plots below present the 10 most demanded destination stations during the commuter hours. These are the most popular destination points in our system. We can see that overall the volume of trips is much more concentrated in some stations during the evening than during the morning."
   ]
  },
  {
   "cell_type": "code",
   "execution_count": 1024,
   "metadata": {},
   "outputs": [],
   "source": [
    "%%bigquery most_demanded_destinations_morning\n",
    "SELECT MAX(end_station_id) AS dest_id, MAX(end_station_name) AS dest_name, COUNT(trip_id) AS num_trips\n",
    "FROM `bigquery-public-data.san_francisco.bikeshare_trips`\n",
    "WHERE EXTRACT(HOUR FROM start_date) IN (7, 8, 9)\n",
    "GROUP BY end_station_id\n",
    "ORDER BY num_trips DESC\n",
    "LIMIT 10"
   ]
  },
  {
   "cell_type": "code",
   "execution_count": 1025,
   "metadata": {},
   "outputs": [],
   "source": [
    "%%bigquery most_demanded_destinations_evening\n",
    "SELECT MAX(end_station_id) AS dest_id, MAX(end_station_name) AS dest_name, COUNT(trip_id) AS num_trips\n",
    "FROM `bigquery-public-data.san_francisco.bikeshare_trips`\n",
    "WHERE EXTRACT(HOUR FROM start_date) IN (16, 17, 18)\n",
    "GROUP BY end_station_id\n",
    "ORDER BY num_trips DESC\n",
    "LIMIT 10"
   ]
  },
  {
   "cell_type": "code",
   "execution_count": 1026,
   "metadata": {},
   "outputs": [
    {
     "data": {
      "image/png": "[encoded data removed]",
      "text/plain": [
       "<Figure size 864x432 with 2 Axes>"
      ]
     },
     "metadata": {
      "needs_background": "light"
     },
     "output_type": "display_data"
    }
   ],
   "source": [
    "fig, (ax1, ax2) = plt.subplots(nrows=1, ncols=2, sharey=True, figsize=(12,6))\n",
    "fig.suptitle(\"Top-10 destination stations during commuter hours\", fontsize=20, y=1.05)\n",
    "ax1.bar(x=most_demanded_destinations_morning[\"dest_id\"].astype(str), height=most_demanded_destinations_morning[\"num_trips\"], color=\"red\", alpha=0.6)\n",
    "ax2.bar(x=most_demanded_destinations_evening[\"dest_id\"].astype(str), height=most_demanded_destinations_evening[\"num_trips\"], color=\"darkgreen\", alpha=0.6)\n",
    "ax1.set_title(\"Morning: from 7am to 10am\", fontdict={'fontsize':16}, y=1.05)\n",
    "ax2.set_title(\"Afternoon: from 4pm to 7pm\", fontdict={'fontsize':16}, y=1.05)\n",
    "ax1.set_ylabel(\"Number of trips\", fontsize=12, labelpad=10)\n",
    "ax1.set_xlabel(\"Origin station IDs\", fontsize=12, labelpad=10)\n",
    "ax2.set_xlabel(\"Origin station IDs\", fontsize=12, labelpad=10)\n",
    "ax1.spines['top'].set_visible(False)\n",
    "ax1.spines['right'].set_visible(False)\n",
    "ax2.spines['top'].set_visible(False)\n",
    "ax2.spines['right'].set_visible(False)\n",
    "plt.ylim(0, 40000)\n",
    "plt.show()"
   ]
  },
  {
   "cell_type": "markdown",
   "metadata": {},
   "source": [
    "### Where does our most demanded destination stations are located?"
   ]
  },
  {
   "cell_type": "markdown",
   "metadata": {},
   "source": [
    "The maps below show the locations of our most demanded destination point stations during commuter hours."
   ]
  },
  {
   "cell_type": "code",
   "execution_count": 1027,
   "metadata": {},
   "outputs": [],
   "source": [
    "%%bigquery morning_destinations\n",
    "SELECT trips.end_station_id AS station_id, MAX(stations.latitude) AS lat, MAX(stations.longitude) AS long, COUNT(trips.trip_id) AS num_trips\n",
    "FROM `bigquery-public-data.san_francisco.bikeshare_stations` AS stations\n",
    "INNER JOIN `bigquery-public-data.san_francisco.bikeshare_trips` AS trips ON stations.station_id=trips.end_station_id\n",
    "WHERE trips.end_station_id in (70, 61, 65, 77, 60, 69, 51, 74, 63, 50) AND EXTRACT(HOUR FROM trips.start_date) IN (7, 8, 9)\n",
    "GROUP BY trips.end_station_id\n",
    "ORDER BY num_trips DESC\n",
    "LIMIT 10"
   ]
  },
  {
   "cell_type": "code",
   "execution_count": 1028,
   "metadata": {},
   "outputs": [],
   "source": [
    "%%bigquery evening_destinations\n",
    "SELECT trips.end_station_id AS station_id, MAX(stations.latitude) AS lat, MAX(stations.longitude) AS long, COUNT(trips.trip_id) AS num_trips\n",
    "FROM `bigquery-public-data.san_francisco.bikeshare_stations` AS stations\n",
    "INNER JOIN `bigquery-public-data.san_francisco.bikeshare_trips` AS trips ON stations.station_id=trips.end_station_id\n",
    "WHERE trips.end_station_id in (70, 69, 50, 74, 55, 77, 61, 60, 39, 65) AND EXTRACT(HOUR FROM trips.start_date) IN (16, 17, 18)\n",
    "GROUP BY trips.end_station_id\n",
    "ORDER BY num_trips DESC\n",
    "LIMIT 10"
   ]
  },
  {
   "cell_type": "code",
   "execution_count": 1029,
   "metadata": {},
   "outputs": [
    {
     "data": {
      "image/png": "[encoded data removed]",
      "text/plain": [
       "<Figure size 1440x1440 with 2 Axes>"
      ]
     },
     "metadata": {
      "needs_background": "light"
     },
     "output_type": "display_data"
    }
   ],
   "source": [
    "sf = gpd.read_file(\"sf.shp\")\n",
    "sf.set_geometry(\"geometry\")\n",
    "\n",
    "morning_destinations[\"geometry\"] = morning_destinations.apply(lambda row: Point(row[\"long\"], row[\"lat\"]), axis=1)\n",
    "evening_destinations[\"geometry\"] = evening_destinations.apply(lambda row: Point(row[\"long\"], row[\"lat\"]), axis=1)\n",
    "\n",
    "data1 = gpd.GeoDataFrame(morning_destinations, crs=\"epsg:4326\", geometry=\"geometry\")\n",
    "data2 = gpd.GeoDataFrame(evening_destinations, crs=\"epsg:4326\", geometry=\"geometry\")\n",
    "\n",
    "fig, (ax1, ax2) = plt.subplots(nrows=1, ncols=2, sharey=True, figsize=(20,20))\n",
    "fig.suptitle(\"Top-10 destination stations during commuter hours\", fontsize=24, y=0.62)\n",
    "ax1.set_title(\"Morning: from 7am to 10am\", fontdict={'fontsize':18})\n",
    "ax2.set_title(\"Afternoon: from 4pm to 7pm\", fontdict={'fontsize':18})\n",
    "sf_map1 = sf.plot(ax=ax1, color=\"lightgray\")\n",
    "sf_map2 = sf.plot(ax=ax2, color=\"lightgray\")\n",
    "data1.plot(ax=sf_map1, marker=\"o\", markersize=data1[\"num_trips\"]/20, color=\"red\", alpha=0.3)\n",
    "data2.plot(ax=sf_map2, marker=\"o\", markersize=data2[\"num_trips\"]/20, color=\"darkgreen\", alpha=0.3)\n",
    "plt.ylim(37.76, 37.82)\n",
    "ax1.spines['top'].set_visible(False)\n",
    "ax1.spines['right'].set_visible(False)\n",
    "ax2.spines['top'].set_visible(False)\n",
    "ax2.spines['right'].set_visible(False)\n",
    "ax1.axes.xaxis.set_visible(False)\n",
    "ax1.axes.yaxis.set_visible(False)\n",
    "ax2.axes.xaxis.set_visible(False)\n",
    "ax2.axes.yaxis.set_visible(False)\n",
    "plt.show()"
   ]
  },
  {
   "cell_type": "markdown",
   "metadata": {},
   "source": [
    "### How is the availability of dockers in the most demanded destination stations during commuter hours? Do we have spare parking capacity to offer to new users?"
   ]
  },
  {
   "cell_type": "markdown",
   "metadata": {},
   "source": [
    "Docker availability ranges from 46% to 57% on our most demanded destination stations in the morning, and from 38% to 56% in the evening. This suggests that there is no shortage of parking capacity neither in the morning or in the evening, reinforcing once more there is room for attracting more users during commuter hours without jeopardizing the quality of service for current users."
   ]
  },
  {
   "cell_type": "code",
   "execution_count": 1030,
   "metadata": {},
   "outputs": [],
   "source": [
    "%%bigquery docker_availability_morning\n",
    "SELECT MAX(station_id) AS dest_id, ROUND(AVG(docks_available), 1) AS avg_docks_available,\n",
    "ROUND(AVG(bikes_available) + AVG(docks_available), 0) AS dock_capacity,\n",
    "ROUND(AVG(docks_available)/(AVG(bikes_available) + AVG(docks_available))*100, 2) AS dock_availability\n",
    "FROM `bigquery-public-data.san_francisco.bikeshare_status`\n",
    "WHERE station_id IN (70, 61, 65, 77, 60, 69, 51, 74, 63, 50) AND EXTRACT(HOUR FROM time) IN (7, 8, 9)\n",
    "GROUP BY station_id\n",
    "ORDER BY dock_availability DESC"
   ]
  },
  {
   "cell_type": "code",
   "execution_count": 1031,
   "metadata": {},
   "outputs": [],
   "source": [
    "docker_availability_morning.set_index(\"dest_id\", inplace=True)"
   ]
  },
  {
   "cell_type": "code",
   "execution_count": 1032,
   "metadata": {},
   "outputs": [
    {
     "data": {
      "text/html": [
       "<div>\n",
       "<style scoped>\n",
       "    .dataframe tbody tr th:only-of-type {\n",
       "        vertical-align: middle;\n",
       "    }\n",
       "\n",
       "    .dataframe tbody tr th {\n",
       "        vertical-align: top;\n",
       "    }\n",
       "\n",
       "    .dataframe thead th {\n",
       "        text-align: right;\n",
       "    }\n",
       "</style>\n",
       "<table border=\"1\" class=\"dataframe\">\n",
       "  <thead>\n",
       "    <tr style=\"text-align: right;\">\n",
       "      <th></th>\n",
       "      <th>avg_docks_available</th>\n",
       "      <th>dock_capacity</th>\n",
       "      <th>dock_availability</th>\n",
       "    </tr>\n",
       "    <tr>\n",
       "      <th>dest_id</th>\n",
       "      <th></th>\n",
       "      <th></th>\n",
       "      <th></th>\n",
       "    </tr>\n",
       "  </thead>\n",
       "  <tbody>\n",
       "    <tr>\n",
       "      <th>51</th>\n",
       "      <td>10.8</td>\n",
       "      <td>19.0</td>\n",
       "      <td>56.78</td>\n",
       "    </tr>\n",
       "    <tr>\n",
       "      <th>60</th>\n",
       "      <td>8.4</td>\n",
       "      <td>15.0</td>\n",
       "      <td>55.89</td>\n",
       "    </tr>\n",
       "    <tr>\n",
       "      <th>70</th>\n",
       "      <td>10.5</td>\n",
       "      <td>19.0</td>\n",
       "      <td>55.59</td>\n",
       "    </tr>\n",
       "    <tr>\n",
       "      <th>63</th>\n",
       "      <td>10.5</td>\n",
       "      <td>19.0</td>\n",
       "      <td>55.27</td>\n",
       "    </tr>\n",
       "    <tr>\n",
       "      <th>61</th>\n",
       "      <td>14.1</td>\n",
       "      <td>26.0</td>\n",
       "      <td>53.34</td>\n",
       "    </tr>\n",
       "    <tr>\n",
       "      <th>65</th>\n",
       "      <td>7.9</td>\n",
       "      <td>15.0</td>\n",
       "      <td>52.58</td>\n",
       "    </tr>\n",
       "    <tr>\n",
       "      <th>50</th>\n",
       "      <td>11.4</td>\n",
       "      <td>23.0</td>\n",
       "      <td>49.91</td>\n",
       "    </tr>\n",
       "    <tr>\n",
       "      <th>77</th>\n",
       "      <td>13.1</td>\n",
       "      <td>26.0</td>\n",
       "      <td>49.70</td>\n",
       "    </tr>\n",
       "    <tr>\n",
       "      <th>74</th>\n",
       "      <td>10.4</td>\n",
       "      <td>22.0</td>\n",
       "      <td>46.61</td>\n",
       "    </tr>\n",
       "    <tr>\n",
       "      <th>69</th>\n",
       "      <td>10.6</td>\n",
       "      <td>23.0</td>\n",
       "      <td>46.23</td>\n",
       "    </tr>\n",
       "  </tbody>\n",
       "</table>\n",
       "</div>"
      ],
      "text/plain": [
       "         avg_docks_available  dock_capacity  dock_availability\n",
       "dest_id                                                       \n",
       "51                      10.8           19.0              56.78\n",
       "60                       8.4           15.0              55.89\n",
       "70                      10.5           19.0              55.59\n",
       "63                      10.5           19.0              55.27\n",
       "61                      14.1           26.0              53.34\n",
       "65                       7.9           15.0              52.58\n",
       "50                      11.4           23.0              49.91\n",
       "77                      13.1           26.0              49.70\n",
       "74                      10.4           22.0              46.61\n",
       "69                      10.6           23.0              46.23"
      ]
     },
     "execution_count": 1032,
     "metadata": {},
     "output_type": "execute_result"
    }
   ],
   "source": [
    "docker_availability_morning"
   ]
  },
  {
   "cell_type": "code",
   "execution_count": 1033,
   "metadata": {},
   "outputs": [],
   "source": [
    "%%bigquery docker_availability_evening\n",
    "SELECT MAX(station_id) AS dest_id, ROUND(AVG(docks_available), 1) AS avg_docks_available,\n",
    "ROUND(AVG(bikes_available) + AVG(docks_available), 0) AS dock_capacity,\n",
    "ROUND(AVG(docks_available)/(AVG(bikes_available) + AVG(docks_available))*100, 2) AS dock_availability\n",
    "FROM `bigquery-public-data.san_francisco.bikeshare_status`\n",
    "WHERE station_id IN (70, 69, 50, 74, 55, 77, 61, 60, 39, 65) AND EXTRACT(HOUR FROM time) IN (16, 17, 18)\n",
    "GROUP BY station_id\n",
    "ORDER BY dock_availability DESC"
   ]
  },
  {
   "cell_type": "code",
   "execution_count": 1034,
   "metadata": {},
   "outputs": [],
   "source": [
    "docker_availability_evening.set_index(\"dest_id\", inplace=True)"
   ]
  },
  {
   "cell_type": "code",
   "execution_count": 1035,
   "metadata": {},
   "outputs": [
    {
     "data": {
      "text/html": [
       "<div>\n",
       "<style scoped>\n",
       "    .dataframe tbody tr th:only-of-type {\n",
       "        vertical-align: middle;\n",
       "    }\n",
       "\n",
       "    .dataframe tbody tr th {\n",
       "        vertical-align: top;\n",
       "    }\n",
       "\n",
       "    .dataframe thead th {\n",
       "        text-align: right;\n",
       "    }\n",
       "</style>\n",
       "<table border=\"1\" class=\"dataframe\">\n",
       "  <thead>\n",
       "    <tr style=\"text-align: right;\">\n",
       "      <th></th>\n",
       "      <th>avg_docks_available</th>\n",
       "      <th>dock_capacity</th>\n",
       "      <th>dock_availability</th>\n",
       "    </tr>\n",
       "    <tr>\n",
       "      <th>dest_id</th>\n",
       "      <th></th>\n",
       "      <th></th>\n",
       "      <th></th>\n",
       "    </tr>\n",
       "  </thead>\n",
       "  <tbody>\n",
       "    <tr>\n",
       "      <th>55</th>\n",
       "      <td>12.7</td>\n",
       "      <td>23.0</td>\n",
       "      <td>55.70</td>\n",
       "    </tr>\n",
       "    <tr>\n",
       "      <th>61</th>\n",
       "      <td>14.5</td>\n",
       "      <td>26.0</td>\n",
       "      <td>55.13</td>\n",
       "    </tr>\n",
       "    <tr>\n",
       "      <th>65</th>\n",
       "      <td>8.2</td>\n",
       "      <td>15.0</td>\n",
       "      <td>54.71</td>\n",
       "    </tr>\n",
       "    <tr>\n",
       "      <th>74</th>\n",
       "      <td>11.9</td>\n",
       "      <td>22.0</td>\n",
       "      <td>53.21</td>\n",
       "    </tr>\n",
       "    <tr>\n",
       "      <th>60</th>\n",
       "      <td>7.9</td>\n",
       "      <td>15.0</td>\n",
       "      <td>53.15</td>\n",
       "    </tr>\n",
       "    <tr>\n",
       "      <th>69</th>\n",
       "      <td>12.1</td>\n",
       "      <td>23.0</td>\n",
       "      <td>52.96</td>\n",
       "    </tr>\n",
       "    <tr>\n",
       "      <th>77</th>\n",
       "      <td>13.9</td>\n",
       "      <td>26.0</td>\n",
       "      <td>52.88</td>\n",
       "    </tr>\n",
       "    <tr>\n",
       "      <th>39</th>\n",
       "      <td>9.3</td>\n",
       "      <td>19.0</td>\n",
       "      <td>49.37</td>\n",
       "    </tr>\n",
       "    <tr>\n",
       "      <th>50</th>\n",
       "      <td>9.3</td>\n",
       "      <td>23.0</td>\n",
       "      <td>40.88</td>\n",
       "    </tr>\n",
       "    <tr>\n",
       "      <th>70</th>\n",
       "      <td>7.3</td>\n",
       "      <td>19.0</td>\n",
       "      <td>38.49</td>\n",
       "    </tr>\n",
       "  </tbody>\n",
       "</table>\n",
       "</div>"
      ],
      "text/plain": [
       "         avg_docks_available  dock_capacity  dock_availability\n",
       "dest_id                                                       \n",
       "55                      12.7           23.0              55.70\n",
       "61                      14.5           26.0              55.13\n",
       "65                       8.2           15.0              54.71\n",
       "74                      11.9           22.0              53.21\n",
       "60                       7.9           15.0              53.15\n",
       "69                      12.1           23.0              52.96\n",
       "77                      13.9           26.0              52.88\n",
       "39                       9.3           19.0              49.37\n",
       "50                       9.3           23.0              40.88\n",
       "70                       7.3           19.0              38.49"
      ]
     },
     "execution_count": 1035,
     "metadata": {},
     "output_type": "execute_result"
    }
   ],
   "source": [
    "docker_availability_evening"
   ]
  },
  {
   "cell_type": "markdown",
   "metadata": {},
   "source": [
    "<a id='summary_findings'></a>\n",
    "## 6-Summary of findings"
   ]
  },
  {
   "cell_type": "markdown",
   "metadata": {},
   "source": [
    "From our analyses, we could learn that:\n",
    "- Our business has been declining in the last months, making it imperative to attract new customers;\n",
    "- Commuter hours are a very popular timing window for our service: from 7 to 10am in the morning, and from 4 to 7pm in the evening;\n",
    "- Trip duration during commuter hours is almost half of that during the other service hours, and mix of subscribers is higher, suggesting commuter customers are very valuable to our company;\n",
    "- The most demanded origin stations during commuter hours (either in the morning or in the evening) have enough bike availability to accomodate new users, without jeopardizing the quality of service for current users;\n",
    "- The same applies for our most demanded destination stations during commuter hours (either in the morning or in the evening), which also have enough dock availability to accomodate new users;\n",
    "- Given that, we will propose in the following chapter some new deals intended to maximize the use of our service during commuter hours, attracting new valuable customers and bringing additional revenue for our company."
   ]
  },
  {
   "cell_type": "markdown",
   "metadata": {},
   "source": [
    "<a id='recommendations'></a>\n",
    "## 7-Recommendations"
   ]
  },
  {
   "cell_type": "markdown",
   "metadata": {},
   "source": [
    "Based on the findings of this study we recommend a pilot of the following offerings intended to attract new commuter customers to our service:\n",
    "- A **round trip** day option costing \\\\$2.50 a day; it allows you to pick a bike in one station, commute to another, and then came back later in the day to the same origin station; as the single ride option, it will cover the first 30 minutes of each ride, then it will charge an extra \\\\$3 per additional 15 minutes.\n",
    "- A **commuter-only monthly membership** option - unlimited number of 30-minute rides valid within commuter hours only, then \\\\$3 per additional 15 minutes; it will be more affordable than the regular option, costing \\\\$9.90 per month. May be restricted for only a specific zone of origin-destination stations in the city.\n",
    "- A **commuter-only annual membership option** - unlimited number of 30-minute rides within commuter hours only, then \\\\$3 per additional 15 minutes; it will be more affordable than the regular option, costing \\\\$99 per year. May be restricted for only a specific zone of origin-destination stations in the city."
   ]
  }
 ],
 "metadata": {
  "environment": {
   "name": "tf2-gpu.2-1.m55",
   "type": "gcloud",
   "uri": "gcr.io/deeplearning-platform-release/tf2-gpu.2-1:m55"
  },
  "kernelspec": {
   "display_name": "Python 3",
   "language": "python",
   "name": "python3"
  },
  "language_info": {
   "codemirror_mode": {
    "name": "ipython",
    "version": 3
   },
   "file_extension": ".py",
   "mimetype": "text/x-python",
   "name": "python",
   "nbconvert_exporter": "python",
   "pygments_lexer": "ipython3",
   "version": "3.7.8"
  }
 },
 "nbformat": 4,
 "nbformat_minor": 4
}
